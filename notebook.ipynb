{
    "cells": [
        {
            "cell_type": "markdown",
            "metadata": {},
            "source": [
                "# Linear Classifiers in Python\n",
                "\n",
                "## Applying logistic regression and SVM\n",
                "\n",
                "### KNN classification\n",
                "\n",
                "In this exercise you'll explore a subset of the [Large Movie Review\n",
                "Dataset](https://ai.stanford.edu/~amaas/data/sentiment/). The variables\n",
                "`X_train`, `X_test`, `y_train`, and `y_test` are already loaded into the\n",
                "environment. The `X` variables contain features based on the words in\n",
                "the movie reviews, and the `y` variables contain labels for whether the\n",
                "review sentiment is positive (+1) or negative (-1).\n",
                "\n",
                "*This course touches on a lot of concepts you may have forgotten, so if\n",
                "you ever need a quick refresher, download the [scikit-learn Cheat\n",
                "Sheet](https://www.datacamp.com/cheat-sheet/scikit-learn-cheat-sheet-python-machine-learning)\n",
                "and keep it handy!*\n",
                "\n",
                "**Instructions**\n",
                "\n",
                "- Create a KNN model with default hyperparameters.\n",
                "- Fit the model.\n",
                "- Print out the prediction for the test example 0.\n",
                "\n",
                "**Answer**\n"
            ]
        },
        {
            "cell_type": "code",
            "execution_count": 85,
            "metadata": {},
            "outputs": [
                {
                    "name": "stdout",
                    "output_type": "stream",
                    "text": [
                        "Defaulting to user installation because normal site-packages is not writeable\n",
                        "Requirement already satisfied: numpy in /home/vscode/.local/lib/python3.12/site-packages (1.26.4)\n",
                        "Requirement already satisfied: scikit-learn in /home/vscode/.local/lib/python3.12/site-packages (1.5.0)\n",
                        "Requirement already satisfied: scipy>=1.6.0 in /home/vscode/.local/lib/python3.12/site-packages (from scikit-learn) (1.13.1)\n",
                        "Requirement already satisfied: joblib>=1.2.0 in /home/vscode/.local/lib/python3.12/site-packages (from scikit-learn) (1.4.2)\n",
                        "Requirement already satisfied: threadpoolctl>=3.1.0 in /home/vscode/.local/lib/python3.12/site-packages (from scikit-learn) (3.5.0)\n",
                        "Note: you may need to restart the kernel to use updated packages.\n"
                    ]
                }
            ],
            "source": [
                "pip install numpy scikit-learn"
            ]
        },
        {
            "cell_type": "code",
            "execution_count": 86,
            "metadata": {},
            "outputs": [],
            "source": [
                "# added/edited\n",
                "import numpy as np\n",
                "from sklearn.datasets import load_svmlight_file\n",
                "X_train, y_train = load_svmlight_file('aclImdb/train/labeledBow.feat')\n",
                "X_test, y_test = load_svmlight_file('aclImdb/test/labeledBow.feat')\n",
                "y_train = np.where(y_train < 5, -1.0, 1.0)\n",
                "y_test = np.where(y_test < 5, -1.0, 1.0)\n",
                "X_train = X_train[:, :X_test.shape[1]]"
            ]
        },
        {
            "cell_type": "code",
            "execution_count": 87,
            "metadata": {},
            "outputs": [
                {
                    "name": "stdout",
                    "output_type": "stream",
                    "text": [
                        "Prediction for test example 0: -1.0\n"
                    ]
                }
            ],
            "source": [
                "from sklearn.neighbors import KNeighborsClassifier\n",
                "\n",
                "# Create and fit the model\n",
                "knn = KNeighborsClassifier()\n",
                "knn.fit(X_train, y_train)\n",
                "\n",
                "# Predict on the test features, print the results\n",
                "pred = knn.predict(X_test)[0]\n",
                "print(\"Prediction for test example 0:\", pred)"
            ]
        },
        {
            "cell_type": "markdown",
            "metadata": {},
            "source": [
                "### Running LogisticRegression and SVC\n",
                "\n",
                "In this exercise, you'll apply logistic regression and a support vector\n",
                "machine to classify images of handwritten digits.\n",
                "\n",
                "**Instructions**\n",
                "\n",
                "- Apply logistic regression and SVM (using `SVC()`) to the handwritten\n",
                "  digits data set using the provided train/validation split.\n",
                "- For each classifier, print out the training and validation accuracy.\n",
                "\n",
                "**Answer**\n"
            ]
        },
        {
            "cell_type": "code",
            "execution_count": 88,
            "metadata": {},
            "outputs": [],
            "source": [
                "# added/edited\n",
                "from sklearn.model_selection import train_test_split\n",
                "from sklearn.linear_model import LogisticRegression\n",
                "from sklearn.svm import SVC"
            ]
        },
        {
            "cell_type": "code",
            "execution_count": 89,
            "metadata": {},
            "outputs": [
                {
                    "name": "stdout",
                    "output_type": "stream",
                    "text": [
                        "1.0\n",
                        "0.9733333333333334\n",
                        "0.9948032665181886\n",
                        "0.9888888888888889\n"
                    ]
                },
                {
                    "name": "stderr",
                    "output_type": "stream",
                    "text": [
                        "/home/vscode/.local/lib/python3.12/site-packages/sklearn/linear_model/_logistic.py:469: ConvergenceWarning: lbfgs failed to converge (status=1):\n",
                        "STOP: TOTAL NO. of ITERATIONS REACHED LIMIT.\n",
                        "\n",
                        "Increase the number of iterations (max_iter) or scale the data as shown in:\n",
                        "    https://scikit-learn.org/stable/modules/preprocessing.html\n",
                        "Please also refer to the documentation for alternative solver options:\n",
                        "    https://scikit-learn.org/stable/modules/linear_model.html#logistic-regression\n",
                        "  n_iter_i = _check_optimize_result(\n"
                    ]
                }
            ],
            "source": [
                "from sklearn import datasets\n",
                "digits = datasets.load_digits()\n",
                "X_train, X_test, y_train, y_test = train_test_split(digits.data, digits.target)\n",
                "\n",
                "# Apply logistic regression and print scores\n",
                "lr = LogisticRegression()\n",
                "lr.fit(X_train, y_train)\n",
                "print(lr.score(X_train, y_train))\n",
                "print(lr.score(X_test, y_test))\n",
                "\n",
                "# Apply SVM and print scores\n",
                "svm = SVC()\n",
                "svm.fit(X_train, y_train)\n",
                "print(svm.score(X_train, y_train))\n",
                "print(svm.score(X_test, y_test))\n"
            ]
        },
        {
            "cell_type": "markdown",
            "metadata": {},
            "source": [
                "### Sentiment analysis for movie reviews\n",
                "\n",
                "In this exercise you'll explore the probabilities outputted by logistic\n",
                "regression on a subset of the [Large Movie Review\n",
                "Dataset](https://ai.stanford.edu/~amaas/data/sentiment/).\n",
                "\n",
                "The variables `X` and `y` are already loaded into the environment. `X`\n",
                "contains features based on the number of times words appear in the movie\n",
                "reviews, and `y` contains labels for whether the review sentiment is\n",
                "positive (+1) or negative (-1).\n",
                "\n",
                "**Instructions**\n",
                "\n",
                "- Train a logistic regression model on the movie review data.\n",
                "- Predict the probabilities of negative vs. positive for the two given\n",
                "  reviews.\n",
                "- Feel free to write your own reviews and get probabilities for those\n",
                "  too!\n",
                "\n",
                "**Answer**\n"
            ]
        },
        {
            "cell_type": "code",
            "execution_count": 90,
            "metadata": {},
            "outputs": [
                {
                    "name": "stdout",
                    "output_type": "stream",
                    "text": [
                        "Defaulting to user installation because normal site-packages is not writeable\n",
                        "Requirement already satisfied: pandas in /home/vscode/.local/lib/python3.12/site-packages (2.2.2)\n",
                        "Requirement already satisfied: numpy>=1.26.0 in /home/vscode/.local/lib/python3.12/site-packages (from pandas) (1.26.4)\n",
                        "Requirement already satisfied: python-dateutil>=2.8.2 in /home/vscode/.local/lib/python3.12/site-packages (from pandas) (2.9.0.post0)\n",
                        "Requirement already satisfied: pytz>=2020.1 in /home/vscode/.local/lib/python3.12/site-packages (from pandas) (2024.1)\n",
                        "Requirement already satisfied: tzdata>=2022.7 in /home/vscode/.local/lib/python3.12/site-packages (from pandas) (2024.1)\n",
                        "Requirement already satisfied: six>=1.5 in /home/vscode/.local/lib/python3.12/site-packages (from python-dateutil>=2.8.2->pandas) (1.16.0)\n",
                        "Note: you may need to restart the kernel to use updated packages.\n"
                    ]
                }
            ],
            "source": [
                "pip install pandas"
            ]
        },
        {
            "cell_type": "code",
            "execution_count": 91,
            "metadata": {},
            "outputs": [],
            "source": [
                "# added/edited\n",
                "import numpy as np\n",
                "from sklearn.datasets import load_svmlight_file\n",
                "from sklearn.feature_extraction.text import CountVectorizer\n",
                "import pandas as pd\n",
                "vocabulary = pd.read_csv('aclImdb/imdb.vocab', header=None, names=['word']).drop_duplicates()['word'].values\n",
                "\n",
                "X, y = load_svmlight_file('aclImdb/train/labeledBow.feat')\n",
                "y = np.where(y < 5, -1.0, 1.0)\n",
                "X = X[:, :len(vocabulary)]\n",
                "vectorizer = CountVectorizer(vocabulary=vocabulary)\n",
                "def get_features(review):\n",
                "    return vectorizer.transform([review])\n"
            ]
        },
        {
            "cell_type": "code",
            "execution_count": 92,
            "metadata": {},
            "outputs": [
                {
                    "name": "stdout",
                    "output_type": "stream",
                    "text": [
                        "Review: LOVED IT! This movie was amazing. Top 10 this year.\n",
                        "Probability of positive review: 0.9410706078385538\n",
                        "Review: Total junk! I'll never watch a film by that director again, no matter how good the reviews.\n",
                        "Probability of positive review: 0.210369701664537\n"
                    ]
                },
                {
                    "name": "stderr",
                    "output_type": "stream",
                    "text": [
                        "/home/vscode/.local/lib/python3.12/site-packages/sklearn/linear_model/_logistic.py:469: ConvergenceWarning: lbfgs failed to converge (status=1):\n",
                        "STOP: TOTAL NO. of ITERATIONS REACHED LIMIT.\n",
                        "\n",
                        "Increase the number of iterations (max_iter) or scale the data as shown in:\n",
                        "    https://scikit-learn.org/stable/modules/preprocessing.html\n",
                        "Please also refer to the documentation for alternative solver options:\n",
                        "    https://scikit-learn.org/stable/modules/linear_model.html#logistic-regression\n",
                        "  n_iter_i = _check_optimize_result(\n"
                    ]
                }
            ],
            "source": [
                "# Instantiate logistic regression and train\n",
                "lr = LogisticRegression()\n",
                "lr.fit(X, y)\n",
                "\n",
                "# Predict sentiment for a glowing review\n",
                "review1 = \"LOVED IT! This movie was amazing. Top 10 this year.\"\n",
                "review1_features = get_features(review1)\n",
                "print(\"Review:\", review1)\n",
                "print(\"Probability of positive review:\", lr.predict_proba(review1_features)[0,1])\n",
                "\n",
                "# Predict sentiment for a poor review\n",
                "review2 = \"Total junk! I'll never watch a film by that director again, no matter how good the reviews.\"\n",
                "review2_features = get_features(review2)\n",
                "print(\"Review:\", review2)\n",
                "print(\"Probability of positive review:\", lr.predict_proba(review2_features)[0,1])\n"
            ]
        },
        {
            "cell_type": "markdown",
            "metadata": {},
            "source": [
                "### Visualizing decision boundaries\n",
                "\n",
                "In this exercise, you'll visualize the decision boundaries of various\n",
                "classifier types.\n",
                "\n",
                "A subset of `scikit-learn`'s built-in `wine` dataset is already loaded\n",
                "into `X`, along with binary labels in `y`.\n",
                "\n",
                "**Instructions**\n",
                "\n",
                "- Create the following classifier objects with default hyperparameters:\n",
                "  `LogisticRegression`, `LinearSVC`, `SVC`, `KNeighborsClassifier`.\n",
                "- Fit each of the classifiers on the provided data using a `for` loop.\n",
                "- Call the `plot_4_classifers()` function (similar to the code\n",
                "  [here](https://scikit-learn.org/stable/auto_examples/svm/plot_iris_svc.html)),\n",
                "  passing in `X`, `y`, and a list containing the four classifiers.\n",
                "\n",
                "**Answer**\n"
            ]
        },
        {
            "cell_type": "code",
            "execution_count": 93,
            "metadata": {},
            "outputs": [
                {
                    "name": "stdout",
                    "output_type": "stream",
                    "text": [
                        "Defaulting to user installation because normal site-packages is not writeable\n",
                        "Requirement already satisfied: matplotlib in /home/vscode/.local/lib/python3.12/site-packages (3.9.0)\n",
                        "Requirement already satisfied: contourpy>=1.0.1 in /home/vscode/.local/lib/python3.12/site-packages (from matplotlib) (1.2.1)\n",
                        "Requirement already satisfied: cycler>=0.10 in /home/vscode/.local/lib/python3.12/site-packages (from matplotlib) (0.12.1)\n",
                        "Requirement already satisfied: fonttools>=4.22.0 in /home/vscode/.local/lib/python3.12/site-packages (from matplotlib) (4.53.0)\n",
                        "Requirement already satisfied: kiwisolver>=1.3.1 in /home/vscode/.local/lib/python3.12/site-packages (from matplotlib) (1.4.5)\n",
                        "Requirement already satisfied: numpy>=1.23 in /home/vscode/.local/lib/python3.12/site-packages (from matplotlib) (1.26.4)\n",
                        "Requirement already satisfied: packaging>=20.0 in /home/vscode/.local/lib/python3.12/site-packages (from matplotlib) (24.0)\n",
                        "Requirement already satisfied: pillow>=8 in /home/vscode/.local/lib/python3.12/site-packages (from matplotlib) (10.3.0)\n",
                        "Requirement already satisfied: pyparsing>=2.3.1 in /home/vscode/.local/lib/python3.12/site-packages (from matplotlib) (3.1.2)\n",
                        "Requirement already satisfied: python-dateutil>=2.7 in /home/vscode/.local/lib/python3.12/site-packages (from matplotlib) (2.9.0.post0)\n",
                        "Requirement already satisfied: six>=1.5 in /home/vscode/.local/lib/python3.12/site-packages (from python-dateutil>=2.7->matplotlib) (1.16.0)\n",
                        "Note: you may need to restart the kernel to use updated packages.\n"
                    ]
                }
            ],
            "source": [
                "pip install matplotlib"
            ]
        },
        {
            "cell_type": "code",
            "execution_count": 94,
            "metadata": {},
            "outputs": [],
            "source": [
                "# added/edited\n",
                "import matplotlib.pyplot as plt \n",
                "X = np.array([[11.45,  2.4 ], [13.62,  4.95], [13.88,  1.89], [12.42,  2.55], [12.81,  2.31], [12.58,  1.29], [13.83,  1.57], [13.07,  1.5 ], [12.7 ,  3.55], [13.77,  1.9 ], [12.84,  2.96], [12.37,  1.63], [13.51,  1.8 ], [13.87,  1.9 ], [12.08,  1.39], [13.58,  1.66], [13.08,  3.9 ], [11.79,  2.13], [12.45,  3.03], [13.68,  1.83], [13.52,  3.17], [13.5 ,  3.12], [12.87,  4.61], [14.02,  1.68], [12.29,  3.17], [12.08,  1.13], [12.7 ,  3.87], [11.03,  1.51], [13.32,  3.24], [14.13,  4.1 ], [13.49,  1.66], [11.84,  2.89], [13.05,  2.05], [12.72,  1.81], [12.82,  3.37], [13.4 ,  4.6 ], [14.22,  3.99], [13.72,  1.43], [12.93,  2.81], [11.64,  2.06], [12.29,  1.61], [11.65,  1.67], [13.28,  1.64], [12.93,  3.8 ], [13.86,  1.35], [11.82,  1.72], [12.37,  1.17], [12.42,  1.61], [13.9 ,  1.68], [14.16,  2.51]])\n",
                "y = np.array([ True,  True, False,  True,  True,  True, False, False,  True, False,  True,  True, False, False,  True, False,  True,  True, True, False,  True,  True,  True, False,  True,  True,  True, True,  True,  True,  True,  True, False,  True,  True,  True, False, False,  True,  True,  True,  True, False, False, False, True,  True,  True, False,  True])"
            ]
        },
        {
            "cell_type": "code",
            "execution_count": 95,
            "metadata": {},
            "outputs": [
                {
                    "name": "stderr",
                    "output_type": "stream",
                    "text": [
                        "<>:66: SyntaxWarning: invalid escape sequence '\\D'\n",
                        "<>:66: SyntaxWarning: invalid escape sequence '\\D'\n",
                        "/tmp/ipykernel_2885/3944463996.py:66: SyntaxWarning: invalid escape sequence '\\D'\n",
                        "  cbar.ax.set_ylabel('probability of red $\\Delta$ class', fontsize=20, rotation=270, labelpad=30)\n"
                    ]
                }
            ],
            "source": [
                "# added/edited\n",
                "def make_meshgrid(x, y, h=.02, lims=None):\n",
                "    \"\"\"Create a mesh of points to plot in\n",
                "    \n",
                "    Parameters\n",
                "    ----------\n",
                "        x: data to base x-axis meshgrid on\n",
                "        y: data to base y-axis meshgrid on\n",
                "        h: stepsize for meshgrid, optional\n",
                "        \n",
                "    Returns\n",
                "    -------\n",
                "        xx, yy : ndarray\n",
                "    \"\"\"\n",
                "    \n",
                "    if lims is None:\n",
                "        x_min, x_max = x.min() - 1, x.max() + 1\n",
                "        y_min, y_max = y.min() - 1, y.max() + 1\n",
                "    else:\n",
                "        x_min, x_max, y_min, y_max = lims\n",
                "    xx, yy = np.meshgrid(np.arange(x_min, x_max, h),\n",
                "                         np.arange(y_min, y_max, h))\n",
                "    return xx, yy\n",
                "\n",
                "\n",
                "def plot_contours(ax, clf, xx, yy, proba=False, **params):\n",
                "    \"\"\"Plot the decision boundaries for a classifier.\n",
                "    \n",
                "    Parameters\n",
                "    ----------\n",
                "        ax: matplotlib axes object\n",
                "        clf: a classifier\n",
                "        xx: meshgrid ndarray\n",
                "        yy: meshgrid ndarray\n",
                "        params: dictionary of params to pass to contourf, optional\n",
                "    \"\"\"\n",
                "    if proba:\n",
                "        Z = clf.predict_proba(np.c_[xx.ravel(), yy.ravel()])[:,-1]\n",
                "        Z = Z.reshape(xx.shape)\n",
                "        out = ax.imshow(Z,extent=(np.min(xx), np.max(xx), np.min(yy), np.max(yy)), \n",
                "                        origin='lower', vmin=0, vmax=1, **params)\n",
                "        ax.contour(xx, yy, Z, levels=[0.5])\n",
                "    else:\n",
                "        Z = clf.predict(np.c_[xx.ravel(), yy.ravel()])\n",
                "        Z = Z.reshape(xx.shape)\n",
                "        out = ax.contourf(xx, yy, Z, **params)\n",
                "    return out\n",
                "\n",
                "\n",
                "def plot_classifier(X, y, clf, ax=None, ticks=False, proba=False, lims=None): \n",
                "    # assumes classifier \"clf\" is already fit\n",
                "    X0, X1 = X[:, 0], X[:, 1]\n",
                "    xx, yy = make_meshgrid(X0, X1, lims=lims)\n",
                "    \n",
                "    if ax is None:\n",
                "        plt.figure()\n",
                "        ax = plt.gca()\n",
                "        show = True\n",
                "    else:\n",
                "        show = False\n",
                "        \n",
                "    # can abstract some of this into a higher-level function for learners to call\n",
                "    cs = plot_contours(ax, clf, xx, yy, cmap=plt.cm.coolwarm, alpha=0.8, proba=proba)\n",
                "    if proba:\n",
                "        cbar = plt.colorbar(cs)\n",
                "        cbar.ax.set_ylabel('probability of red $\\Delta$ class', fontsize=20, rotation=270, labelpad=30)\n",
                "        cbar.ax.tick_params(labelsize=14)\n",
                "        #ax.scatter(X0, X1, c=y, cmap=plt.cm.coolwarm, s=30, edgecolors=\\'k\\', linewidth=1)\n",
                "    labels = np.unique(y)\n",
                "    if len(labels) == 2:\n",
                "        ax.scatter(X0[y==labels[0]], X1[y==labels[0]], cmap=plt.cm.coolwarm, \n",
                "                   s=60, c='b', marker='o', edgecolors='k')\n",
                "        ax.scatter(X0[y==labels[1]], X1[y==labels[1]], cmap=plt.cm.coolwarm, \n",
                "                   s=60, c='r', marker='^', edgecolors='k')\n",
                "    else:\n",
                "        ax.scatter(X0, X1, c=y, cmap=plt.cm.coolwarm, s=50, edgecolors='k', linewidth=1)\n",
                "\n",
                "    ax.set_xlim(xx.min(), xx.max())\n",
                "    ax.set_ylim(yy.min(), yy.max())\n",
                "    #     ax.set_xlabel(data.feature_names[0])\n",
                "    #     ax.set_ylabel(data.feature_names[1])\n",
                "    if ticks:\n",
                "        ax.set_xticks(())\n",
                "        ax.set_yticks(())\n",
                "        #     ax.set_title(title)\n",
                "    if show:\n",
                "        plt.show()\n",
                "    else:\n",
                "        return ax\n",
                "    \n",
                "\n",
                "def plot_4_classifiers(X, y, clfs):\n",
                "    # Set-up 2x2 grid for plotting.\n",
                "    fig, sub = plt.subplots(2, 2)\n",
                "    plt.subplots_adjust(wspace=0.2, hspace=0.2)\n",
                "    \n",
                "    for clf, ax, title in zip(clfs, sub.flatten(), (\"(1)\", \"(2)\", \"(3)\", \"(4)\")):\n",
                "        # clf.fit(X, y)\n",
                "        plot_classifier(X, y, clf, ax, ticks=True)\n",
                "        ax.set_title(title)"
            ]
        },
        {
            "cell_type": "code",
            "execution_count": 96,
            "metadata": {},
            "outputs": [
                {
                    "name": "stderr",
                    "output_type": "stream",
                    "text": [
                        "/tmp/ipykernel_2885/3944463996.py:71: UserWarning: No data for colormapping provided via 'c'. Parameters 'cmap' will be ignored\n",
                        "  ax.scatter(X0[y==labels[0]], X1[y==labels[0]], cmap=plt.cm.coolwarm,\n",
                        "/tmp/ipykernel_2885/3944463996.py:73: UserWarning: No data for colormapping provided via 'c'. Parameters 'cmap' will be ignored\n",
                        "  ax.scatter(X0[y==labels[1]], X1[y==labels[1]], cmap=plt.cm.coolwarm,\n",
                        "/tmp/ipykernel_2885/3944463996.py:71: UserWarning: No data for colormapping provided via 'c'. Parameters 'cmap' will be ignored\n",
                        "  ax.scatter(X0[y==labels[0]], X1[y==labels[0]], cmap=plt.cm.coolwarm,\n",
                        "/tmp/ipykernel_2885/3944463996.py:73: UserWarning: No data for colormapping provided via 'c'. Parameters 'cmap' will be ignored\n",
                        "  ax.scatter(X0[y==labels[1]], X1[y==labels[1]], cmap=plt.cm.coolwarm,\n",
                        "/tmp/ipykernel_2885/3944463996.py:71: UserWarning: No data for colormapping provided via 'c'. Parameters 'cmap' will be ignored\n",
                        "  ax.scatter(X0[y==labels[0]], X1[y==labels[0]], cmap=plt.cm.coolwarm,\n",
                        "/tmp/ipykernel_2885/3944463996.py:73: UserWarning: No data for colormapping provided via 'c'. Parameters 'cmap' will be ignored\n",
                        "  ax.scatter(X0[y==labels[1]], X1[y==labels[1]], cmap=plt.cm.coolwarm,\n",
                        "/tmp/ipykernel_2885/3944463996.py:71: UserWarning: No data for colormapping provided via 'c'. Parameters 'cmap' will be ignored\n",
                        "  ax.scatter(X0[y==labels[0]], X1[y==labels[0]], cmap=plt.cm.coolwarm,\n",
                        "/tmp/ipykernel_2885/3944463996.py:73: UserWarning: No data for colormapping provided via 'c'. Parameters 'cmap' will be ignored\n",
                        "  ax.scatter(X0[y==labels[1]], X1[y==labels[1]], cmap=plt.cm.coolwarm,\n"
                    ]
                },
                {
                    "data": {
                        "image/png": "[encoded data removed]",
                        "text/plain": [
                            "<Figure size 640x480 with 4 Axes>"
                        ]
                    },
                    "metadata": {},
                    "output_type": "display_data"
                }
            ],
            "source": [
                "from sklearn.linear_model import LogisticRegression\n",
                "from sklearn.svm import SVC, LinearSVC\n",
                "from sklearn.neighbors import KNeighborsClassifier\n",
                "\n",
                "# Define the classifiers\n",
                "classifiers = [LogisticRegression(), LinearSVC(),\n",
                "               SVC(), KNeighborsClassifier()]\n",
                "\n",
                "# Fit the classifiers\n",
                "for c in classifiers:\n",
                "    c.fit(X, y)\n",
                "\n",
                "# Plot the classifiers\n",
                "plot_4_classifiers(X, y, classifiers)\n",
                "plt.show()\n"
            ]
        },
        {
            "cell_type": "markdown",
            "metadata": {},
            "source": [
                "## Loss functions\n",
                "\n",
                "### Changing the model coefficients\n",
                "\n",
                "When you call `fit` with scikit-learn, the logistic regression\n",
                "coefficients are automatically learned from your dataset. In this\n",
                "exercise you will explore how the decision boundary is represented by\n",
                "the coefficients. To do so, you will change the coefficients manually\n",
                "(instead of with `fit`), and visualize the resulting classifiers.\n",
                "\n",
                "A 2D dataset is already loaded into the environment as `X` and `y`,\n",
                "along with a linear classifier object `model`.\n",
                "\n",
                "**Instructions**\n",
                "\n",
                "- Set the two coefficients and the intercept to various values and\n",
                "  observe the resulting decision boundaries.\n",
                "- Try to build up a sense of how the coefficients relate to the decision\n",
                "  boundary.\n",
                "- Set the coefficients and intercept such that the model makes no errors\n",
                "  on the given training data.\n",
                "\n",
                "**Answer**\n"
            ]
        },
        {
            "cell_type": "code",
            "execution_count": 97,
            "metadata": {},
            "outputs": [
                {
                    "data": {
                        "text/html": [
                            "<style>#sk-container-id-3 {\n",
                            "  /* Definition of color scheme common for light and dark mode */\n",
                            "  --sklearn-color-text: black;\n",
                            "  --sklearn-color-line: gray;\n",
                            "  /* Definition of color scheme for unfitted estimators */\n",
                            "  --sklearn-color-unfitted-level-0: #fff5e6;\n",
                            "  --sklearn-color-unfitted-level-1: #f6e4d2;\n",
                            "  --sklearn-color-unfitted-level-2: #ffe0b3;\n",
                            "  --sklearn-color-unfitted-level-3: chocolate;\n",
                            "  /* Definition of color scheme for fitted estimators */\n",
                            "  --sklearn-color-fitted-level-0: #f0f8ff;\n",
                            "  --sklearn-color-fitted-level-1: #d4ebff;\n",
                            "  --sklearn-color-fitted-level-2: #b3dbfd;\n",
                            "  --sklearn-color-fitted-level-3: cornflowerblue;\n",
                            "\n",
                            "  /* Specific color for light theme */\n",
                            "  --sklearn-color-text-on-default-background: var(--sg-text-color, var(--theme-code-foreground, var(--jp-content-font-color1, black)));\n",
                            "  --sklearn-color-background: var(--sg-background-color, var(--theme-background, var(--jp-layout-color0, white)));\n",
                            "  --sklearn-color-border-box: var(--sg-text-color, var(--theme-code-foreground, var(--jp-content-font-color1, black)));\n",
                            "  --sklearn-color-icon: #696969;\n",
                            "\n",
                            "  @media (prefers-color-scheme: dark) {\n",
                            "    /* Redefinition of color scheme for dark theme */\n",
                            "    --sklearn-color-text-on-default-background: var(--sg-text-color, var(--theme-code-foreground, var(--jp-content-font-color1, white)));\n",
                            "    --sklearn-color-background: var(--sg-background-color, var(--theme-background, var(--jp-layout-color0, #111)));\n",
                            "    --sklearn-color-border-box: var(--sg-text-color, var(--theme-code-foreground, var(--jp-content-font-color1, white)));\n",
                            "    --sklearn-color-icon: #878787;\n",
                            "  }\n",
                            "}\n",
                            "\n",
                            "#sk-container-id-3 {\n",
                            "  color: var(--sklearn-color-text);\n",
                            "}\n",
                            "\n",
                            "#sk-container-id-3 pre {\n",
                            "  padding: 0;\n",
                            "}\n",
                            "\n",
                            "#sk-container-id-3 input.sk-hidden--visually {\n",
                            "  border: 0;\n",
                            "  clip: rect(1px 1px 1px 1px);\n",
                            "  clip: rect(1px, 1px, 1px, 1px);\n",
                            "  height: 1px;\n",
                            "  margin: -1px;\n",
                            "  overflow: hidden;\n",
                            "  padding: 0;\n",
                            "  position: absolute;\n",
                            "  width: 1px;\n",
                            "}\n",
                            "\n",
                            "#sk-container-id-3 div.sk-dashed-wrapped {\n",
                            "  border: 1px dashed var(--sklearn-color-line);\n",
                            "  margin: 0 0.4em 0.5em 0.4em;\n",
                            "  box-sizing: border-box;\n",
                            "  padding-bottom: 0.4em;\n",
                            "  background-color: var(--sklearn-color-background);\n",
                            "}\n",
                            "\n",
                            "#sk-container-id-3 div.sk-container {\n",
                            "  /* jupyter's `normalize.less` sets `[hidden] { display: none; }`\n",
                            "     but bootstrap.min.css set `[hidden] { display: none !important; }`\n",
                            "     so we also need the `!important` here to be able to override the\n",
                            "     default hidden behavior on the sphinx rendered scikit-learn.org.\n",
                            "     See: https://github.com/scikit-learn/scikit-learn/issues/21755 */\n",
                            "  display: inline-block !important;\n",
                            "  position: relative;\n",
                            "}\n",
                            "\n",
                            "#sk-container-id-3 div.sk-text-repr-fallback {\n",
                            "  display: none;\n",
                            "}\n",
                            "\n",
                            "div.sk-parallel-item,\n",
                            "div.sk-serial,\n",
                            "div.sk-item {\n",
                            "  /* draw centered vertical line to link estimators */\n",
                            "  background-image: linear-gradient(var(--sklearn-color-text-on-default-background), var(--sklearn-color-text-on-default-background));\n",
                            "  background-size: 2px 100%;\n",
                            "  background-repeat: no-repeat;\n",
                            "  background-position: center center;\n",
                            "}\n",
                            "\n",
                            "/* Parallel-specific style estimator block */\n",
                            "\n",
                            "#sk-container-id-3 div.sk-parallel-item::after {\n",
                            "  content: \"\";\n",
                            "  width: 100%;\n",
                            "  border-bottom: 2px solid var(--sklearn-color-text-on-default-background);\n",
                            "  flex-grow: 1;\n",
                            "}\n",
                            "\n",
                            "#sk-container-id-3 div.sk-parallel {\n",
                            "  display: flex;\n",
                            "  align-items: stretch;\n",
                            "  justify-content: center;\n",
                            "  background-color: var(--sklearn-color-background);\n",
                            "  position: relative;\n",
                            "}\n",
                            "\n",
                            "#sk-container-id-3 div.sk-parallel-item {\n",
                            "  display: flex;\n",
                            "  flex-direction: column;\n",
                            "}\n",
                            "\n",
                            "#sk-container-id-3 div.sk-parallel-item:first-child::after {\n",
                            "  align-self: flex-end;\n",
                            "  width: 50%;\n",
                            "}\n",
                            "\n",
                            "#sk-container-id-3 div.sk-parallel-item:last-child::after {\n",
                            "  align-self: flex-start;\n",
                            "  width: 50%;\n",
                            "}\n",
                            "\n",
                            "#sk-container-id-3 div.sk-parallel-item:only-child::after {\n",
                            "  width: 0;\n",
                            "}\n",
                            "\n",
                            "/* Serial-specific style estimator block */\n",
                            "\n",
                            "#sk-container-id-3 div.sk-serial {\n",
                            "  display: flex;\n",
                            "  flex-direction: column;\n",
                            "  align-items: center;\n",
                            "  background-color: var(--sklearn-color-background);\n",
                            "  padding-right: 1em;\n",
                            "  padding-left: 1em;\n",
                            "}\n",
                            "\n",
                            "\n",
                            "/* Toggleable style: style used for estimator/Pipeline/ColumnTransformer box that is\n",
                            "clickable and can be expanded/collapsed.\n",
                            "- Pipeline and ColumnTransformer use this feature and define the default style\n",
                            "- Estimators will overwrite some part of the style using the `sk-estimator` class\n",
                            "*/\n",
                            "\n",
                            "/* Pipeline and ColumnTransformer style (default) */\n",
                            "\n",
                            "#sk-container-id-3 div.sk-toggleable {\n",
                            "  /* Default theme specific background. It is overwritten whether we have a\n",
                            "  specific estimator or a Pipeline/ColumnTransformer */\n",
                            "  background-color: var(--sklearn-color-background);\n",
                            "}\n",
                            "\n",
                            "/* Toggleable label */\n",
                            "#sk-container-id-3 label.sk-toggleable__label {\n",
                            "  cursor: pointer;\n",
                            "  display: block;\n",
                            "  width: 100%;\n",
                            "  margin-bottom: 0;\n",
                            "  padding: 0.5em;\n",
                            "  box-sizing: border-box;\n",
                            "  text-align: center;\n",
                            "}\n",
                            "\n",
                            "#sk-container-id-3 label.sk-toggleable__label-arrow:before {\n",
                            "  /* Arrow on the left of the label */\n",
                            "  content: \"▸\";\n",
                            "  float: left;\n",
                            "  margin-right: 0.25em;\n",
                            "  color: var(--sklearn-color-icon);\n",
                            "}\n",
                            "\n",
                            "#sk-container-id-3 label.sk-toggleable__label-arrow:hover:before {\n",
                            "  color: var(--sklearn-color-text);\n",
                            "}\n",
                            "\n",
                            "/* Toggleable content - dropdown */\n",
                            "\n",
                            "#sk-container-id-3 div.sk-toggleable__content {\n",
                            "  max-height: 0;\n",
                            "  max-width: 0;\n",
                            "  overflow: hidden;\n",
                            "  text-align: left;\n",
                            "  /* unfitted */\n",
                            "  background-color: var(--sklearn-color-unfitted-level-0);\n",
                            "}\n",
                            "\n",
                            "#sk-container-id-3 div.sk-toggleable__content.fitted {\n",
                            "  /* fitted */\n",
                            "  background-color: var(--sklearn-color-fitted-level-0);\n",
                            "}\n",
                            "\n",
                            "#sk-container-id-3 div.sk-toggleable__content pre {\n",
                            "  margin: 0.2em;\n",
                            "  border-radius: 0.25em;\n",
                            "  color: var(--sklearn-color-text);\n",
                            "  /* unfitted */\n",
                            "  background-color: var(--sklearn-color-unfitted-level-0);\n",
                            "}\n",
                            "\n",
                            "#sk-container-id-3 div.sk-toggleable__content.fitted pre {\n",
                            "  /* unfitted */\n",
                            "  background-color: var(--sklearn-color-fitted-level-0);\n",
                            "}\n",
                            "\n",
                            "#sk-container-id-3 input.sk-toggleable__control:checked~div.sk-toggleable__content {\n",
                            "  /* Expand drop-down */\n",
                            "  max-height: 200px;\n",
                            "  max-width: 100%;\n",
                            "  overflow: auto;\n",
                            "}\n",
                            "\n",
                            "#sk-container-id-3 input.sk-toggleable__control:checked~label.sk-toggleable__label-arrow:before {\n",
                            "  content: \"▾\";\n",
                            "}\n",
                            "\n",
                            "/* Pipeline/ColumnTransformer-specific style */\n",
                            "\n",
                            "#sk-container-id-3 div.sk-label input.sk-toggleable__control:checked~label.sk-toggleable__label {\n",
                            "  color: var(--sklearn-color-text);\n",
                            "  background-color: var(--sklearn-color-unfitted-level-2);\n",
                            "}\n",
                            "\n",
                            "#sk-container-id-3 div.sk-label.fitted input.sk-toggleable__control:checked~label.sk-toggleable__label {\n",
                            "  background-color: var(--sklearn-color-fitted-level-2);\n",
                            "}\n",
                            "\n",
                            "/* Estimator-specific style */\n",
                            "\n",
                            "/* Colorize estimator box */\n",
                            "#sk-container-id-3 div.sk-estimator input.sk-toggleable__control:checked~label.sk-toggleable__label {\n",
                            "  /* unfitted */\n",
                            "  background-color: var(--sklearn-color-unfitted-level-2);\n",
                            "}\n",
                            "\n",
                            "#sk-container-id-3 div.sk-estimator.fitted input.sk-toggleable__control:checked~label.sk-toggleable__label {\n",
                            "  /* fitted */\n",
                            "  background-color: var(--sklearn-color-fitted-level-2);\n",
                            "}\n",
                            "\n",
                            "#sk-container-id-3 div.sk-label label.sk-toggleable__label,\n",
                            "#sk-container-id-3 div.sk-label label {\n",
                            "  /* The background is the default theme color */\n",
                            "  color: var(--sklearn-color-text-on-default-background);\n",
                            "}\n",
                            "\n",
                            "/* On hover, darken the color of the background */\n",
                            "#sk-container-id-3 div.sk-label:hover label.sk-toggleable__label {\n",
                            "  color: var(--sklearn-color-text);\n",
                            "  background-color: var(--sklearn-color-unfitted-level-2);\n",
                            "}\n",
                            "\n",
                            "/* Label box, darken color on hover, fitted */\n",
                            "#sk-container-id-3 div.sk-label.fitted:hover label.sk-toggleable__label.fitted {\n",
                            "  color: var(--sklearn-color-text);\n",
                            "  background-color: var(--sklearn-color-fitted-level-2);\n",
                            "}\n",
                            "\n",
                            "/* Estimator label */\n",
                            "\n",
                            "#sk-container-id-3 div.sk-label label {\n",
                            "  font-family: monospace;\n",
                            "  font-weight: bold;\n",
                            "  display: inline-block;\n",
                            "  line-height: 1.2em;\n",
                            "}\n",
                            "\n",
                            "#sk-container-id-3 div.sk-label-container {\n",
                            "  text-align: center;\n",
                            "}\n",
                            "\n",
                            "/* Estimator-specific */\n",
                            "#sk-container-id-3 div.sk-estimator {\n",
                            "  font-family: monospace;\n",
                            "  border: 1px dotted var(--sklearn-color-border-box);\n",
                            "  border-radius: 0.25em;\n",
                            "  box-sizing: border-box;\n",
                            "  margin-bottom: 0.5em;\n",
                            "  /* unfitted */\n",
                            "  background-color: var(--sklearn-color-unfitted-level-0);\n",
                            "}\n",
                            "\n",
                            "#sk-container-id-3 div.sk-estimator.fitted {\n",
                            "  /* fitted */\n",
                            "  background-color: var(--sklearn-color-fitted-level-0);\n",
                            "}\n",
                            "\n",
                            "/* on hover */\n",
                            "#sk-container-id-3 div.sk-estimator:hover {\n",
                            "  /* unfitted */\n",
                            "  background-color: var(--sklearn-color-unfitted-level-2);\n",
                            "}\n",
                            "\n",
                            "#sk-container-id-3 div.sk-estimator.fitted:hover {\n",
                            "  /* fitted */\n",
                            "  background-color: var(--sklearn-color-fitted-level-2);\n",
                            "}\n",
                            "\n",
                            "/* Specification for estimator info (e.g. \"i\" and \"?\") */\n",
                            "\n",
                            "/* Common style for \"i\" and \"?\" */\n",
                            "\n",
                            ".sk-estimator-doc-link,\n",
                            "a:link.sk-estimator-doc-link,\n",
                            "a:visited.sk-estimator-doc-link {\n",
                            "  float: right;\n",
                            "  font-size: smaller;\n",
                            "  line-height: 1em;\n",
                            "  font-family: monospace;\n",
                            "  background-color: var(--sklearn-color-background);\n",
                            "  border-radius: 1em;\n",
                            "  height: 1em;\n",
                            "  width: 1em;\n",
                            "  text-decoration: none !important;\n",
                            "  margin-left: 1ex;\n",
                            "  /* unfitted */\n",
                            "  border: var(--sklearn-color-unfitted-level-1) 1pt solid;\n",
                            "  color: var(--sklearn-color-unfitted-level-1);\n",
                            "}\n",
                            "\n",
                            ".sk-estimator-doc-link.fitted,\n",
                            "a:link.sk-estimator-doc-link.fitted,\n",
                            "a:visited.sk-estimator-doc-link.fitted {\n",
                            "  /* fitted */\n",
                            "  border: var(--sklearn-color-fitted-level-1) 1pt solid;\n",
                            "  color: var(--sklearn-color-fitted-level-1);\n",
                            "}\n",
                            "\n",
                            "/* On hover */\n",
                            "div.sk-estimator:hover .sk-estimator-doc-link:hover,\n",
                            ".sk-estimator-doc-link:hover,\n",
                            "div.sk-label-container:hover .sk-estimator-doc-link:hover,\n",
                            ".sk-estimator-doc-link:hover {\n",
                            "  /* unfitted */\n",
                            "  background-color: var(--sklearn-color-unfitted-level-3);\n",
                            "  color: var(--sklearn-color-background);\n",
                            "  text-decoration: none;\n",
                            "}\n",
                            "\n",
                            "div.sk-estimator.fitted:hover .sk-estimator-doc-link.fitted:hover,\n",
                            ".sk-estimator-doc-link.fitted:hover,\n",
                            "div.sk-label-container:hover .sk-estimator-doc-link.fitted:hover,\n",
                            ".sk-estimator-doc-link.fitted:hover {\n",
                            "  /* fitted */\n",
                            "  background-color: var(--sklearn-color-fitted-level-3);\n",
                            "  color: var(--sklearn-color-background);\n",
                            "  text-decoration: none;\n",
                            "}\n",
                            "\n",
                            "/* Span, style for the box shown on hovering the info icon */\n",
                            ".sk-estimator-doc-link span {\n",
                            "  display: none;\n",
                            "  z-index: 9999;\n",
                            "  position: relative;\n",
                            "  font-weight: normal;\n",
                            "  right: .2ex;\n",
                            "  padding: .5ex;\n",
                            "  margin: .5ex;\n",
                            "  width: min-content;\n",
                            "  min-width: 20ex;\n",
                            "  max-width: 50ex;\n",
                            "  color: var(--sklearn-color-text);\n",
                            "  box-shadow: 2pt 2pt 4pt #999;\n",
                            "  /* unfitted */\n",
                            "  background: var(--sklearn-color-unfitted-level-0);\n",
                            "  border: .5pt solid var(--sklearn-color-unfitted-level-3);\n",
                            "}\n",
                            "\n",
                            ".sk-estimator-doc-link.fitted span {\n",
                            "  /* fitted */\n",
                            "  background: var(--sklearn-color-fitted-level-0);\n",
                            "  border: var(--sklearn-color-fitted-level-3);\n",
                            "}\n",
                            "\n",
                            ".sk-estimator-doc-link:hover span {\n",
                            "  display: block;\n",
                            "}\n",
                            "\n",
                            "/* \"?\"-specific style due to the `<a>` HTML tag */\n",
                            "\n",
                            "#sk-container-id-3 a.estimator_doc_link {\n",
                            "  float: right;\n",
                            "  font-size: 1rem;\n",
                            "  line-height: 1em;\n",
                            "  font-family: monospace;\n",
                            "  background-color: var(--sklearn-color-background);\n",
                            "  border-radius: 1rem;\n",
                            "  height: 1rem;\n",
                            "  width: 1rem;\n",
                            "  text-decoration: none;\n",
                            "  /* unfitted */\n",
                            "  color: var(--sklearn-color-unfitted-level-1);\n",
                            "  border: var(--sklearn-color-unfitted-level-1) 1pt solid;\n",
                            "}\n",
                            "\n",
                            "#sk-container-id-3 a.estimator_doc_link.fitted {\n",
                            "  /* fitted */\n",
                            "  border: var(--sklearn-color-fitted-level-1) 1pt solid;\n",
                            "  color: var(--sklearn-color-fitted-level-1);\n",
                            "}\n",
                            "\n",
                            "/* On hover */\n",
                            "#sk-container-id-3 a.estimator_doc_link:hover {\n",
                            "  /* unfitted */\n",
                            "  background-color: var(--sklearn-color-unfitted-level-3);\n",
                            "  color: var(--sklearn-color-background);\n",
                            "  text-decoration: none;\n",
                            "}\n",
                            "\n",
                            "#sk-container-id-3 a.estimator_doc_link.fitted:hover {\n",
                            "  /* fitted */\n",
                            "  background-color: var(--sklearn-color-fitted-level-3);\n",
                            "}\n",
                            "</style><div id=\"sk-container-id-3\" class=\"sk-top-container\"><div class=\"sk-text-repr-fallback\"><pre>LogisticRegression()</pre><b>In a Jupyter environment, please rerun this cell to show the HTML representation or trust the notebook. <br />On GitHub, the HTML representation is unable to render, please try loading this page with nbviewer.org.</b></div><div class=\"sk-container\" hidden><div class=\"sk-item\"><div class=\"sk-estimator fitted sk-toggleable\"><input class=\"sk-toggleable__control sk-hidden--visually\" id=\"sk-estimator-id-3\" type=\"checkbox\" checked><label for=\"sk-estimator-id-3\" class=\"sk-toggleable__label fitted sk-toggleable__label-arrow fitted\">&nbsp;&nbsp;LogisticRegression<a class=\"sk-estimator-doc-link fitted\" rel=\"noreferrer\" target=\"_blank\" href=\"https://scikit-learn.org/1.5/modules/generated/sklearn.linear_model.LogisticRegression.html\">?<span>Documentation for LogisticRegression</span></a><span class=\"sk-estimator-doc-link fitted\">i<span>Fitted</span></span></label><div class=\"sk-toggleable__content fitted\"><pre>LogisticRegression()</pre></div> </div></div></div></div>"
                        ],
                        "text/plain": [
                            "LogisticRegression()"
                        ]
                    },
                    "execution_count": 97,
                    "metadata": {},
                    "output_type": "execute_result"
                }
            ],
            "source": [
                "# added/edited\n",
                "from sklearn.linear_model import LogisticRegression\n",
                "X = np.array([[ 1.78862847, 0.43650985], [ 0.09649747, -1.8634927 ], [-0.2773882 , -0.35475898], [-3.08274148, 2.37299932], [-3.04381817, 2.52278197], [-1.31386475, 0.88462238], [-2.11868196, 4.70957306], [-2.94996636, 2.59532259], [-3.54535995, 1.45352268], [ 0.98236743, -1.10106763], [-1.18504653, -0.2056499 ], [-1.51385164, 3.23671627], [-4.02378514, 2.2870068 ], [ 0.62524497, -0.16051336], [-3.76883635, 2.76996928], [ 0.74505627, 1.97611078], [-1.24412333, -0.62641691], [-0.80376609, -2.41908317], [-0.92379202, -1.02387576], [ 1.12397796, -0.13191423]])\n",
                "y = np.array([-1, -1, -1, 1, 1, -1, 1, 1, 1, -1, -1, 1, 1, -1, 1, -1, -1, -1, -1, -1])\n",
                "model = LogisticRegression()\n",
                "model.fit(X, y)"
            ]
        },
        {
            "cell_type": "code",
            "execution_count": 98,
            "metadata": {},
            "outputs": [
                {
                    "name": "stderr",
                    "output_type": "stream",
                    "text": [
                        "/tmp/ipykernel_2885/3944463996.py:71: UserWarning: No data for colormapping provided via 'c'. Parameters 'cmap' will be ignored\n",
                        "  ax.scatter(X0[y==labels[0]], X1[y==labels[0]], cmap=plt.cm.coolwarm,\n",
                        "/tmp/ipykernel_2885/3944463996.py:73: UserWarning: No data for colormapping provided via 'c'. Parameters 'cmap' will be ignored\n",
                        "  ax.scatter(X0[y==labels[1]], X1[y==labels[1]], cmap=plt.cm.coolwarm,\n"
                    ]
                },
                {
                    "data": {
                        "image/png": "[encoded data removed]",
                        "text/plain": [
                            "<Figure size 640x480 with 1 Axes>"
                        ]
                    },
                    "metadata": {},
                    "output_type": "display_data"
                },
                {
                    "name": "stdout",
                    "output_type": "stream",
                    "text": [
                        "Number of errors: 3\n"
                    ]
                }
            ],
            "source": [
                "# Set the coefficients\n",
                "model.coef_ = np.array([[0,1]])\n",
                "model.intercept_ = np.array([0])\n",
                "\n",
                "# Plot the data and decision boundary\n",
                "plot_classifier(X,y,model)\n",
                "\n",
                "# Print the number of errors\n",
                "num_err = np.sum(y != model.predict(X))\n",
                "print(\"Number of errors:\", num_err)"
            ]
        },
        {
            "cell_type": "markdown",
            "metadata": {},
            "source": [
                "### Minimizing a loss function\n",
                "\n",
                "In this exercise you'll implement linear regression \"from scratch\" using\n",
                "`scipy.optimize.minimize`.\n",
                "\n",
                "We'll train a model on the Boston housing price data set, which is\n",
                "already loaded into the variables `X` and `y`. For simplicity, we won't\n",
                "include an intercept in our regression model.\n",
                "\n",
                "**Instructions**\n",
                "\n",
                "- Fill in the loss function for least squares linear regression.\n",
                "- Print out the coefficients from fitting sklearn's `LinearRegression`.\n",
                "\n",
                "**Answer**\n"
            ]
        },
        {
            "cell_type": "code",
            "execution_count": 99,
            "metadata": {},
            "outputs": [],
            "source": [
                "# added/edited\n",
                "from scipy.optimize import minimize\n",
                "from sklearn.linear_model import LinearRegression\n",
                "boston = np.genfromtxt('boston.csv', delimiter=',', skip_header=1)\n",
                "X = boston[:, :-1]\n",
                "y = boston[:, -1]"
            ]
        },
        {
            "cell_type": "code",
            "execution_count": 100,
            "metadata": {},
            "outputs": [
                {
                    "name": "stdout",
                    "output_type": "stream",
                    "text": [
                        "[-0.0910727   0.04843059 -0.0092203   2.84376175 -2.70682126  5.92068105\n",
                        " -0.0069313  -0.96899338  0.16606771 -0.00913894 -0.39533263  0.01500011\n",
                        " -0.41893766]\n",
                        "[-0.09107247  0.04843025 -0.00922329  2.84376422 -2.70689566  5.92067655\n",
                        " -0.00693123 -0.96899503  0.16606245 -0.00913851 -0.39533609  0.01500025\n",
                        " -0.41893787]\n"
                    ]
                }
            ],
            "source": [
                "# The squared error, summed over training examples\n",
                "def my_loss(w):\n",
                "    s = 0\n",
                "    for i in range(y.size):\n",
                "        # Get the true and predicted target values for example 'i'\n",
                "        y_i_true = y[i]\n",
                "        y_i_pred = w@X[i]\n",
                "        s = s + (y_i_true - y_i_pred)**2\n",
                "    return s\n",
                "\n",
                "# Returns the w that makes my_loss(w) smallest\n",
                "w_fit = minimize(my_loss, X[0]).x\n",
                "print(w_fit)\n",
                "\n",
                "# Compare with scikit-learn's LinearRegression coefficients\n",
                "lr = LinearRegression(fit_intercept=False).fit(X,y)\n",
                "print(lr.coef_)\n"
            ]
        },
        {
            "cell_type": "markdown",
            "metadata": {},
            "source": [
                "### Comparing the logistic and hinge losses\n",
                "\n",
                "In this exercise you'll create a plot of the logistic and hinge losses\n",
                "using their mathematical expressions, which are provided to you.\n",
                "\n",
                "The loss function diagram from the video is shown on the right.\n",
                "\n",
                "**Instructions**\n",
                "\n",
                "- Evaluate the `log_loss()` and `hinge_loss()` functions **at the grid\n",
                "  points** so that they are plotted.\n",
                "\n",
                "**Answer**\n"
            ]
        },
        {
            "cell_type": "code",
            "execution_count": 101,
            "metadata": {},
            "outputs": [
                {
                    "data": {
                        "image/png": "[encoded data removed]",
                        "text/plain": [
                            "<Figure size 640x480 with 1 Axes>"
                        ]
                    },
                    "metadata": {},
                    "output_type": "display_data"
                }
            ],
            "source": [
                "# Mathematical functions for logistic and hinge losses\n",
                "def log_loss(raw_model_output):\n",
                "   return np.log(1+np.exp(-raw_model_output))\n",
                "def hinge_loss(raw_model_output):\n",
                "   return np.maximum(0,1-raw_model_output)\n",
                "\n",
                "# Create a grid of values and plot\n",
                "grid = np.linspace(-2,2,1000)\n",
                "plt.plot(grid, log_loss(grid), label='logistic')\n",
                "plt.plot(grid, hinge_loss(grid), label='hinge')\n",
                "plt.legend()\n",
                "plt.show()\n"
            ]
        },
        {
            "cell_type": "markdown",
            "metadata": {},
            "source": [
                "### Implementing logistic regression\n",
                "\n",
                "This is very similar to the earlier exercise where you implemented\n",
                "linear regression \"from scratch\" using `scipy.optimize.minimize`.\n",
                "However, this time we'll minimize the logistic loss and compare with\n",
                "scikit-learn's `LogisticRegression` (we've set `C` to a large value to\n",
                "disable regularization; more on this in Chapter 3!).\n",
                "\n",
                "The `log_loss()` function from the previous exercise is already defined\n",
                "in your environment, and the `sklearn` breast cancer prediction dataset\n",
                "(first 10 features, standardized) is loaded into the variables `X` and\n",
                "`y`.\n",
                "\n",
                "**Instructions**\n",
                "\n",
                "- Input the number of training examples into `range()`.\n",
                "- Fill in the loss function for logistic regression.\n",
                "- Compare the coefficients to sklearn's `LogisticRegression`.\n",
                "\n",
                "**Answer**\n"
            ]
        },
        {
            "cell_type": "code",
            "execution_count": 102,
            "metadata": {},
            "outputs": [],
            "source": [
                "# added/edited\n",
                "from scipy.optimize import minimize\n",
                "from sklearn.linear_model import LinearRegression\n",
                "breast = np.genfromtxt('breast.csv', delimiter=',', skip_header=1)\n",
                "X = breast[:, :-1]\n",
                "y = breast[:, -1]"
            ]
        },
        {
            "cell_type": "code",
            "execution_count": 103,
            "metadata": {},
            "outputs": [
                {
                    "name": "stdout",
                    "output_type": "stream",
                    "text": [
                        "[ 1.03554622 -1.65377841  4.08373462 -9.40922302 -1.06786355  0.07890367\n",
                        " -0.85110636 -2.44100368 -0.4528488   0.43353788]\n",
                        "[[ 2.71458587 -1.65402326  2.18958756 -9.29661809 -1.08819416  0.20522475\n",
                        "  -0.85716057 -2.396583   -0.45787656  0.42168857]]\n"
                    ]
                }
            ],
            "source": [
                "# The logistic loss, summed over training examples\n",
                "def my_loss(w):\n",
                "    s = 0\n",
                "    for i in range(y.size):\n",
                "        raw_model_output = w@X[i]\n",
                "        s = s + log_loss(raw_model_output * y[i])\n",
                "    return s\n",
                "\n",
                "# Returns the w that makes my_loss(w) smallest\n",
                "w_fit = minimize(my_loss, X[0]).x\n",
                "print(w_fit)\n",
                "\n",
                "# Compare with scikit-learn's LogisticRegression\n",
                "lr = LogisticRegression(fit_intercept=False, C=1000000).fit(X,y)\n",
                "print(lr.coef_)"
            ]
        },
        {
            "cell_type": "markdown",
            "metadata": {},
            "source": [
                "## Logistic regression\n",
                "\n",
                "### Regularized logistic regression\n",
                "\n",
                "In Chapter 1, you used logistic regression on the handwritten digits\n",
                "data set. Here, we'll explore the effect of L2 regularization.\n",
                "\n",
                "The handwritten digits dataset is already loaded, split, and stored in\n",
                "the variables `X_train`, `y_train`, `X_valid`, and `y_valid`. The\n",
                "variables `train_errs` and `valid_errs` are already initialized as empty\n",
                "lists.\n",
                "\n",
                "**Instructions**\n",
                "\n",
                "- Loop over the different values of `C_value`, creating and fitting a\n",
                "  `LogisticRegression` model each time.\n",
                "- Save the error on the training set and the validation set for each\n",
                "  model.\n",
                "- Create a plot of the training and testing error as a function of the\n",
                "  regularization parameter, `C`.\n",
                "- Looking at the plot, what's the best value of `C`?\n",
                "\n",
                "**Answer**\n"
            ]
        },
        {
            "cell_type": "code",
            "execution_count": 104,
            "metadata": {},
            "outputs": [],
            "source": [
                "# added/edited\n",
                "X_train, X_valid, y_train, y_valid = train_test_split(digits.data, digits.target, stratify=digits.target, random_state=42)\n",
                "C_values = [0.001, 0.01, 0.1, 1, 10, 100, 1000]"
            ]
        },
        {
            "cell_type": "code",
            "execution_count": 105,
            "metadata": {},
            "outputs": [
                {
                    "name": "stderr",
                    "output_type": "stream",
                    "text": [
                        "/home/vscode/.local/lib/python3.12/site-packages/sklearn/linear_model/_logistic.py:469: ConvergenceWarning: lbfgs failed to converge (status=1):\n",
                        "STOP: TOTAL NO. of ITERATIONS REACHED LIMIT.\n",
                        "\n",
                        "Increase the number of iterations (max_iter) or scale the data as shown in:\n",
                        "    https://scikit-learn.org/stable/modules/preprocessing.html\n",
                        "Please also refer to the documentation for alternative solver options:\n",
                        "    https://scikit-learn.org/stable/modules/linear_model.html#logistic-regression\n",
                        "  n_iter_i = _check_optimize_result(\n",
                        "/home/vscode/.local/lib/python3.12/site-packages/sklearn/linear_model/_logistic.py:469: ConvergenceWarning: lbfgs failed to converge (status=1):\n",
                        "STOP: TOTAL NO. of ITERATIONS REACHED LIMIT.\n",
                        "\n",
                        "Increase the number of iterations (max_iter) or scale the data as shown in:\n",
                        "    https://scikit-learn.org/stable/modules/preprocessing.html\n",
                        "Please also refer to the documentation for alternative solver options:\n",
                        "    https://scikit-learn.org/stable/modules/linear_model.html#logistic-regression\n",
                        "  n_iter_i = _check_optimize_result(\n",
                        "/home/vscode/.local/lib/python3.12/site-packages/sklearn/linear_model/_logistic.py:469: ConvergenceWarning: lbfgs failed to converge (status=1):\n",
                        "STOP: TOTAL NO. of ITERATIONS REACHED LIMIT.\n",
                        "\n",
                        "Increase the number of iterations (max_iter) or scale the data as shown in:\n",
                        "    https://scikit-learn.org/stable/modules/preprocessing.html\n",
                        "Please also refer to the documentation for alternative solver options:\n",
                        "    https://scikit-learn.org/stable/modules/linear_model.html#logistic-regression\n",
                        "  n_iter_i = _check_optimize_result(\n",
                        "/home/vscode/.local/lib/python3.12/site-packages/sklearn/linear_model/_logistic.py:469: ConvergenceWarning: lbfgs failed to converge (status=1):\n",
                        "STOP: TOTAL NO. of ITERATIONS REACHED LIMIT.\n",
                        "\n",
                        "Increase the number of iterations (max_iter) or scale the data as shown in:\n",
                        "    https://scikit-learn.org/stable/modules/preprocessing.html\n",
                        "Please also refer to the documentation for alternative solver options:\n",
                        "    https://scikit-learn.org/stable/modules/linear_model.html#logistic-regression\n",
                        "  n_iter_i = _check_optimize_result(\n"
                    ]
                },
                {
                    "data": {
                        "image/png": "[encoded data removed]",
                        "text/plain": [
                            "<Figure size 640x480 with 1 Axes>"
                        ]
                    },
                    "metadata": {},
                    "output_type": "display_data"
                }
            ],
            "source": [
                "# Train and validaton errors initialized as empty list\n",
                "train_errs = list()\n",
                "valid_errs = list()\n",
                "\n",
                "# Loop over values of C_value\n",
                "for C_value in [0.001, 0.01, 0.1, 1, 10, 100, 1000]:\n",
                "    # Create LogisticRegression object and fit\n",
                "    lr = LogisticRegression(C=C_value)\n",
                "    lr.fit(X_train, y_train)\n",
                "    \n",
                "    # Evaluate error rates and append to lists\n",
                "    train_errs.append( 1.0 - lr.score(X_train, y_train) )\n",
                "    valid_errs.append( 1.0 - lr.score(X_valid, y_valid) )\n",
                "    \n",
                "# Plot results\n",
                "plt.semilogx(C_values, train_errs, C_values, valid_errs)\n",
                "plt.legend((\"train\", \"validation\"))\n",
                "plt.show()"
            ]
        },
        {
            "cell_type": "markdown",
            "metadata": {},
            "source": [
                "### Logistic regression and feature selection\n",
                "\n",
                "In this exercise we'll perform feature selection on the movie review\n",
                "sentiment data set using L1 regularization. The features and targets are\n",
                "already loaded for you in `X_train` and `y_train`.\n",
                "\n",
                "We'll search for the best value of `C` using scikit-learn's\n",
                "`GridSearchCV()`, which was covered in the prerequisite course.\n",
                "\n",
                "**Instructions**\n",
                "\n",
                "- Instantiate a logistic regression object that uses L1 regularization.\n",
                "- Find the value of `C` that minimizes cross-validation error.\n",
                "- Print out the number of selected features for this value of `C`.\n",
                "\n",
                "**Answer**\n"
            ]
        },
        {
            "cell_type": "code",
            "execution_count": 106,
            "metadata": {},
            "outputs": [],
            "source": [
                "# added/edited\n",
                "from sklearn.model_selection import GridSearchCV\n",
                "X_train, y_train = load_svmlight_file('aclImdb/train/labeledBow.feat')\n",
                "y_train = np.where(y_train < 5, -1.0, 1.0)"
            ]
        },
        {
            "cell_type": "code",
            "execution_count": 107,
            "metadata": {},
            "outputs": [
                {
                    "name": "stdout",
                    "output_type": "stream",
                    "text": [
                        "Best CV params {'C': 0.1}\n",
                        "Total number of features: 89527\n",
                        "Number of selected features: 1106\n"
                    ]
                }
            ],
            "source": [
                "# Specify L1 regularization\n",
                "lr = LogisticRegression(solver='liblinear', penalty='l1')\n",
                "\n",
                "# Instantiate the GridSearchCV object and run the search\n",
                "searcher = GridSearchCV(lr, {'C':[0.001, 0.01, 0.1, 1, 10]})\n",
                "searcher.fit(X_train, y_train)\n",
                "\n",
                "# Report the best parameters\n",
                "print(\"Best CV params\", searcher.best_params_)\n",
                "\n",
                "# Find the number of nonzero coefficients (selected features)\n",
                "best_lr = searcher.best_estimator_\n",
                "coefs = best_lr.coef_\n",
                "print(\"Total number of features:\", coefs.size)\n",
                "print(\"Number of selected features:\", np.count_nonzero(coefs))"
            ]
        },
        {
            "cell_type": "markdown",
            "metadata": {},
            "source": [
                "### Identifying the most positive and negative words\n",
                "\n",
                "In this exercise we'll try to interpret the coefficients of a logistic\n",
                "regression fit on the movie review sentiment dataset. The model object\n",
                "is already instantiated and fit for you in the variable `lr`.\n",
                "\n",
                "In addition, the words corresponding to the different features are\n",
                "loaded into the variable `vocab`. For example, since `vocab[100]` is\n",
                "\"think\", that means feature 100 corresponds to the number of times the\n",
                "word \"think\" appeared in that movie review.\n",
                "\n",
                "**Instructions**\n",
                "\n",
                "- Find the words corresponding to the 5 largest coefficients.\n",
                "- Find the words corresponding to the 5 smallest coefficients.\n",
                "\n",
                "**Answer**\n"
            ]
        },
        {
            "cell_type": "code",
            "execution_count": 108,
            "metadata": {},
            "outputs": [],
            "source": [
                "# added/edited\n",
                "vocab = pd.read_csv('aclImdb/imdb.vocab', header=None, names=['word']).drop_duplicates()['word'].values\n",
                "lr = best_lr"
            ]
        },
        {
            "cell_type": "code",
            "execution_count": 109,
            "metadata": {},
            "outputs": [
                {
                    "name": "stdout",
                    "output_type": "stream",
                    "text": [
                        "Most positive words: excellent, refreshing, wonderfully, perfect, superb, \n",
                        "\n",
                        "Most negative words: waste, worst, disappointment, poorly, awful, \n",
                        "\n"
                    ]
                }
            ],
            "source": [
                "# Get the indices of the sorted cofficients\n",
                "inds_ascending = np.argsort(lr.coef_.flatten()) \n",
                "inds_descending = inds_ascending[::-1]\n",
                "\n",
                "# Print the most positive words\n",
                "print(\"Most positive words: \", end=\"\")\n",
                "for i in range(5):\n",
                "    print(vocab[inds_descending[i]], end=\", \")\n",
                "print(\"\\n\")\n",
                "\n",
                "# Print most negative words\n",
                "print(\"Most negative words: \", end=\"\")\n",
                "for i in range(5):\n",
                "    print(vocab[inds_ascending[i]], end=\", \")\n",
                "print(\"\\n\")\n"
            ]
        },
        {
            "cell_type": "markdown",
            "metadata": {},
            "source": [
                "### Regularization and probabilities\n",
                "\n",
                "In this exercise, you will observe the effects of changing the\n",
                "regularization strength on the predicted probabilities.\n",
                "\n",
                "A 2D binary classification dataset is already loaded into the\n",
                "environment as `X` and `y`.\n",
                "\n",
                "**Instructions**\n",
                "\n",
                "- Compute the maximum predicted probability.\n",
                "- Run the provided code and take a look at the plot.\n",
                "\n",
                "<!-- -->\n",
                "\n",
                "- Create a model with `C=0.1` and examine how the plot and probabilities\n",
                "  change.\n",
                "\n",
                "**Answer**\n"
            ]
        },
        {
            "cell_type": "code",
            "execution_count": 122,
            "metadata": {},
            "outputs": [],
            "source": [
                "# added/edited\n",
                "binary = pd.read_csv('binary.csv', header=None).to_numpy()\n",
                "X = binary[:, :-1]\n",
                "y = binary[:, -1]"
            ]
        },
        {
            "cell_type": "code",
            "execution_count": 123,
            "metadata": {},
            "outputs": [
                {
                    "name": "stderr",
                    "output_type": "stream",
                    "text": [
                        "/tmp/ipykernel_2885/3513585600.py:68: UserWarning: No data for colormapping provided via 'c'. Parameters 'cmap' will be ignored\n",
                        "  ax.scatter(X0[y==labels[0]], X1[y==labels[0]], cmap=plt.cm.coolwarm,\n",
                        "/tmp/ipykernel_2885/3513585600.py:70: UserWarning: No data for colormapping provided via 'c'. Parameters 'cmap' will be ignored\n",
                        "  ax.scatter(X0[y==labels[1]], X1[y==labels[1]], cmap=plt.cm.coolwarm,\n"
                    ]
                },
                {
                    "data": {
                        "image/png": "[encoded data removed]",
                        "text/plain": [
                            "<Figure size 640x480 with 2 Axes>"
                        ]
                    },
                    "metadata": {},
                    "output_type": "display_data"
                },
                {
                    "name": "stdout",
                    "output_type": "stream",
                    "text": [
                        "Maximum predicted probability 0.9973152198703695\n"
                    ]
                }
            ],
            "source": [
                "# Set the regularization strength\n",
                "model = LogisticRegression(C=1)\n",
                "\n",
                "# Fit and plot\n",
                "model.fit(X,y)\n",
                "plot_classifier(X,y,model,proba=True)\n",
                "\n",
                "# Predict probabilities on training points\n",
                "prob = model.predict_proba(X)\n",
                "print(\"Maximum predicted probability\", np.max(prob))"
            ]
        },
        {
            "cell_type": "code",
            "execution_count": 124,
            "metadata": {},
            "outputs": [
                {
                    "name": "stderr",
                    "output_type": "stream",
                    "text": [
                        "/tmp/ipykernel_2885/3513585600.py:68: UserWarning: No data for colormapping provided via 'c'. Parameters 'cmap' will be ignored\n",
                        "  ax.scatter(X0[y==labels[0]], X1[y==labels[0]], cmap=plt.cm.coolwarm,\n",
                        "/tmp/ipykernel_2885/3513585600.py:70: UserWarning: No data for colormapping provided via 'c'. Parameters 'cmap' will be ignored\n",
                        "  ax.scatter(X0[y==labels[1]], X1[y==labels[1]], cmap=plt.cm.coolwarm,\n"
                    ]
                },
                {
                    "data": {
                        "image/png": "[encoded data removed]",
                        "text/plain": [
                            "<Figure size 640x480 with 2 Axes>"
                        ]
                    },
                    "metadata": {},
                    "output_type": "display_data"
                },
                {
                    "name": "stdout",
                    "output_type": "stream",
                    "text": [
                        "Maximum predicted probability 0.9351932155190785\n"
                    ]
                }
            ],
            "source": [
                "# Set the regularization strength\n",
                "model = LogisticRegression(C=0.1)\n",
                "\n",
                "# Fit and plot\n",
                "model.fit(X,y)\n",
                "plot_classifier(X,y,model,proba=True)\n",
                "\n",
                "# Predict probabilities on training points\n",
                "prob = model.predict_proba(X)\n",
                "print(\"Maximum predicted probability\", np.max(prob))"
            ]
        },
        {
            "cell_type": "markdown",
            "metadata": {},
            "source": [
                "### Visualizing easy and difficult examples\n",
                "\n",
                "In this exercise, you'll visualize the examples that the logistic\n",
                "regression model is most and least confident about by looking at the\n",
                "largest and smallest predicted probabilities.\n",
                "\n",
                "The handwritten digits dataset is already loaded into the variables `X`\n",
                "and `y`. The `show_digit` function takes in an integer index and plots\n",
                "the corresponding image, with some extra information displayed above the\n",
                "image.\n",
                "\n",
                "**Instructions**\n",
                "\n",
                "- Fill in the first blank with the *index* of the digit that the model\n",
                "  is most confident about.\n",
                "- Fill in the second blank with the *index* of the digit that the model\n",
                "  is least confident about.\n",
                "- Observe the images: do you agree that the first one is less ambiguous\n",
                "  than the second?\n",
                "\n",
                "**Answer**\n"
            ]
        },
        {
            "cell_type": "code",
            "execution_count": 127,
            "metadata": {},
            "outputs": [],
            "source": [
                "# added/edited\n",
                "X, y = digits.data, digits.target\n",
                "def show_digit(i, lr=None):\n",
                "    plt.imshow(np.reshape(X[i], (8,8)), cmap='gray', \n",
                "               vmin = 0, vmax = 16, interpolation=None)\n",
                "    plt.xticks(())\n",
                "    plt.yticks(())\n",
                "    if lr is None:\n",
                "        plt.title(\"class label = %d\" % y[i])\n",
                "    else:\n",
                "        pred = lr.predict(X[i][None])\n",
                "        pred_prob = lr.predict_proba(X[i][None])[0,pred]\n",
                "        plt.title(\"label=%d, prediction=%d, proba=%.2f\" % (y[i], pred, pred_prob))\n",
                "        plt.show()"
            ]
        },
        {
            "cell_type": "code",
            "execution_count": 128,
            "metadata": {},
            "outputs": [
                {
                    "name": "stderr",
                    "output_type": "stream",
                    "text": [
                        "/home/vscode/.local/lib/python3.12/site-packages/sklearn/linear_model/_logistic.py:469: ConvergenceWarning: lbfgs failed to converge (status=1):\n",
                        "STOP: TOTAL NO. of ITERATIONS REACHED LIMIT.\n",
                        "\n",
                        "Increase the number of iterations (max_iter) or scale the data as shown in:\n",
                        "    https://scikit-learn.org/stable/modules/preprocessing.html\n",
                        "Please also refer to the documentation for alternative solver options:\n",
                        "    https://scikit-learn.org/stable/modules/linear_model.html#logistic-regression\n",
                        "  n_iter_i = _check_optimize_result(\n",
                        "/tmp/ipykernel_2885/3635067261.py:13: DeprecationWarning: Conversion of an array with ndim > 0 to a scalar is deprecated, and will error in future. Ensure you extract a single element from your array before performing this operation. (Deprecated NumPy 1.25.)\n",
                        "  plt.title(\"label=%d, prediction=%d, proba=%.2f\" % (y[i], pred, pred_prob))\n"
                    ]
                },
                {
                    "data": {
                        "image/png": "[encoded data removed]",
                        "text/plain": [
                            "<Figure size 640x480 with 1 Axes>"
                        ]
                    },
                    "metadata": {},
                    "output_type": "display_data"
                },
                {
                    "name": "stderr",
                    "output_type": "stream",
                    "text": [
                        "/tmp/ipykernel_2885/3635067261.py:13: DeprecationWarning: Conversion of an array with ndim > 0 to a scalar is deprecated, and will error in future. Ensure you extract a single element from your array before performing this operation. (Deprecated NumPy 1.25.)\n",
                        "  plt.title(\"label=%d, prediction=%d, proba=%.2f\" % (y[i], pred, pred_prob))\n"
                    ]
                },
                {
                    "data": {
                        "image/png": "[encoded data removed]",
                        "text/plain": [
                            "<Figure size 640x480 with 1 Axes>"
                        ]
                    },
                    "metadata": {},
                    "output_type": "display_data"
                }
            ],
            "source": [
                "lr = LogisticRegression()\n",
                "lr.fit(X,y)\n",
                "\n",
                "# Get predicted probabilities\n",
                "proba = lr.predict_proba(X)\n",
                "\n",
                "# Sort the example indices by their maximum probability\n",
                "proba_inds = np.argsort(np.max(proba,axis=1))\n",
                "\n",
                "# Show the most confident (least ambiguous) digit\n",
                "show_digit(proba_inds[-1], lr)\n",
                "\n",
                "# Show the least confident (most ambiguous) digit\n",
                "show_digit(proba_inds[0], lr)\n"
            ]
        },
        {
            "cell_type": "markdown",
            "metadata": {},
            "source": [
                "### Fitting multi-class logistic regression\n",
                "\n",
                "In this exercise, you'll fit the two types of multi-class logistic\n",
                "regression, one-vs-rest and softmax/multinomial, on the handwritten\n",
                "digits data set and compare the results. The handwritten digits dataset\n",
                "is already loaded and split into `X_train`, `y_train`, `X_test`, and\n",
                "`y_test`.\n",
                "\n",
                "**Instructions**\n",
                "\n",
                "- Fit a one-vs-rest logistic regression classifier by setting the\n",
                "  `multi_class` parameter and report the results.\n",
                "- Fit a multinomial logistic regression classifier by setting the\n",
                "  `multi_class` parameter and report the results.\n",
                "\n",
                "**Answer**\n"
            ]
        },
        {
            "cell_type": "code",
            "execution_count": 130,
            "metadata": {},
            "outputs": [],
            "source": [
                "# added/edited\n",
                "X_train, X_test, y_train, y_test = train_test_split(digits.data, digits.target)"
            ]
        },
        {
            "cell_type": "code",
            "execution_count": 131,
            "metadata": {},
            "outputs": [
                {
                    "name": "stderr",
                    "output_type": "stream",
                    "text": [
                        "/home/vscode/.local/lib/python3.12/site-packages/sklearn/linear_model/_logistic.py:1256: FutureWarning: 'multi_class' was deprecated in version 1.5 and will be removed in 1.7. Use OneVsRestClassifier(LogisticRegression(..)) instead. Leave it to its default value to avoid this warning.\n",
                        "  warnings.warn(\n",
                        "/home/vscode/.local/lib/python3.12/site-packages/sklearn/linear_model/_logistic.py:469: ConvergenceWarning: lbfgs failed to converge (status=1):\n",
                        "STOP: TOTAL NO. of ITERATIONS REACHED LIMIT.\n",
                        "\n",
                        "Increase the number of iterations (max_iter) or scale the data as shown in:\n",
                        "    https://scikit-learn.org/stable/modules/preprocessing.html\n",
                        "Please also refer to the documentation for alternative solver options:\n",
                        "    https://scikit-learn.org/stable/modules/linear_model.html#logistic-regression\n",
                        "  n_iter_i = _check_optimize_result(\n"
                    ]
                },
                {
                    "name": "stdout",
                    "output_type": "stream",
                    "text": [
                        "OVR training accuracy: 0.994060876020787\n",
                        "OVR test accuracy    : 0.96\n",
                        "Softmax training accuracy: 1.0\n",
                        "Softmax test accuracy    : 0.9577777777777777\n"
                    ]
                },
                {
                    "name": "stderr",
                    "output_type": "stream",
                    "text": [
                        "/home/vscode/.local/lib/python3.12/site-packages/sklearn/linear_model/_logistic.py:1247: FutureWarning: 'multi_class' was deprecated in version 1.5 and will be removed in 1.7. From then on, it will always use 'multinomial'. Leave it to its default value to avoid this warning.\n",
                        "  warnings.warn(\n",
                        "/home/vscode/.local/lib/python3.12/site-packages/sklearn/linear_model/_logistic.py:469: ConvergenceWarning: lbfgs failed to converge (status=1):\n",
                        "STOP: TOTAL NO. of ITERATIONS REACHED LIMIT.\n",
                        "\n",
                        "Increase the number of iterations (max_iter) or scale the data as shown in:\n",
                        "    https://scikit-learn.org/stable/modules/preprocessing.html\n",
                        "Please also refer to the documentation for alternative solver options:\n",
                        "    https://scikit-learn.org/stable/modules/linear_model.html#logistic-regression\n",
                        "  n_iter_i = _check_optimize_result(\n"
                    ]
                }
            ],
            "source": [
                "# Fit one-vs-rest logistic regression classifier\n",
                "lr_ovr = LogisticRegression(multi_class=\"ovr\")\n",
                "lr_ovr.fit(X_train, y_train)\n",
                "\n",
                "print(\"OVR training accuracy:\", lr_ovr.score(X_train, y_train))\n",
                "print(\"OVR test accuracy    :\", lr_ovr.score(X_test, y_test))\n",
                "\n",
                "# Fit softmax classifier\n",
                "lr_mn = LogisticRegression(multi_class=\"multinomial\")\n",
                "lr_mn.fit(X_train, y_train)\n",
                "\n",
                "print(\"Softmax training accuracy:\", lr_mn.score(X_train, y_train))\n",
                "print(\"Softmax test accuracy    :\", lr_mn.score(X_test, y_test))\n"
            ]
        },
        {
            "cell_type": "markdown",
            "metadata": {},
            "source": [
                "### Visualizing multi-class logistic regression\n",
                "\n",
                "In this exercise we'll continue with the two types of multi-class\n",
                "logistic regression, but on a toy 2D data set specifically designed to\n",
                "break the one-vs-rest scheme.\n",
                "\n",
                "The data set is loaded into `X_train` and `y_train`. The two logistic\n",
                "regression objects,`lr_mn` and `lr_ovr`, are already instantiated (with\n",
                "`C=100`), fit, and plotted.\n",
                "\n",
                "Notice that `lr_ovr` never predicts the dark blue class… yikes! Let's\n",
                "explore why this happens by plotting one of the binary classifiers that\n",
                "it's using behind the scenes.\n",
                "\n",
                "**Instructions**\n",
                "\n",
                "- Create a new logistic regression object (also with `C=100`) to be used\n",
                "  for binary classification.\n",
                "- Visualize this binary classifier with `plot_classifier`… does it look\n",
                "  reasonable?\n",
                "\n",
                "**Answer**\n"
            ]
        },
        {
            "cell_type": "code",
            "execution_count": 135,
            "metadata": {},
            "outputs": [],
            "source": [
                "# added/edited\n",
                "toy_train = pd.read_csv('toy_train.csv', header=None).to_numpy()\n",
                "X_train = toy_train[:, :-1]\n",
                "y_train = toy_train[:, -1]"
            ]
        },
        {
            "cell_type": "code",
            "execution_count": 137,
            "metadata": {},
            "outputs": [
                {
                    "ename": "ValueError",
                    "evalue": "X has 2 features, but LogisticRegression is expecting 64 features as input.",
                    "output_type": "error",
                    "traceback": [
                        "\u001b[0;31m---------------------------------------------------------------------------\u001b[0m",
                        "\u001b[0;31mValueError\u001b[0m                                Traceback (most recent call last)",
                        "Cell \u001b[0;32mIn[137], line 2\u001b[0m\n\u001b[1;32m      1\u001b[0m \u001b[38;5;66;03m# Print training accuracies\u001b[39;00m\n\u001b[0;32m----> 2\u001b[0m \u001b[38;5;28mprint\u001b[39m(\u001b[38;5;124m\"\u001b[39m\u001b[38;5;124mSoftmax     training accuracy:\u001b[39m\u001b[38;5;124m\"\u001b[39m, \u001b[43mlr_mn\u001b[49m\u001b[38;5;241;43m.\u001b[39;49m\u001b[43mscore\u001b[49m\u001b[43m(\u001b[49m\u001b[43mX_train\u001b[49m\u001b[43m,\u001b[49m\u001b[43m \u001b[49m\u001b[43my_train\u001b[49m\u001b[43m)\u001b[49m)\n\u001b[1;32m      3\u001b[0m \u001b[38;5;28mprint\u001b[39m(\u001b[38;5;124m\"\u001b[39m\u001b[38;5;124mOne-vs-rest training accuracy:\u001b[39m\u001b[38;5;124m\"\u001b[39m, lr_ovr\u001b[38;5;241m.\u001b[39mscore(X_train, y_train))\n\u001b[1;32m      5\u001b[0m \u001b[38;5;66;03m# Create the binary classifier (class 1 vs. rest)\u001b[39;00m\n",
                        "File \u001b[0;32m~/.local/lib/python3.12/site-packages/sklearn/base.py:764\u001b[0m, in \u001b[0;36mClassifierMixin.score\u001b[0;34m(self, X, y, sample_weight)\u001b[0m\n\u001b[1;32m    739\u001b[0m \u001b[38;5;250m\u001b[39m\u001b[38;5;124;03m\"\"\"\u001b[39;00m\n\u001b[1;32m    740\u001b[0m \u001b[38;5;124;03mReturn the mean accuracy on the given test data and labels.\u001b[39;00m\n\u001b[1;32m    741\u001b[0m \n\u001b[0;32m   (...)\u001b[0m\n\u001b[1;32m    760\u001b[0m \u001b[38;5;124;03m    Mean accuracy of ``self.predict(X)`` w.r.t. `y`.\u001b[39;00m\n\u001b[1;32m    761\u001b[0m \u001b[38;5;124;03m\"\"\"\u001b[39;00m\n\u001b[1;32m    762\u001b[0m \u001b[38;5;28;01mfrom\u001b[39;00m \u001b[38;5;21;01m.\u001b[39;00m\u001b[38;5;21;01mmetrics\u001b[39;00m \u001b[38;5;28;01mimport\u001b[39;00m accuracy_score\n\u001b[0;32m--> 764\u001b[0m \u001b[38;5;28;01mreturn\u001b[39;00m accuracy_score(y, \u001b[38;5;28;43mself\u001b[39;49m\u001b[38;5;241;43m.\u001b[39;49m\u001b[43mpredict\u001b[49m\u001b[43m(\u001b[49m\u001b[43mX\u001b[49m\u001b[43m)\u001b[49m, sample_weight\u001b[38;5;241m=\u001b[39msample_weight)\n",
                        "File \u001b[0;32m~/.local/lib/python3.12/site-packages/sklearn/linear_model/_base.py:382\u001b[0m, in \u001b[0;36mLinearClassifierMixin.predict\u001b[0;34m(self, X)\u001b[0m\n\u001b[1;32m    368\u001b[0m \u001b[38;5;250m\u001b[39m\u001b[38;5;124;03m\"\"\"\u001b[39;00m\n\u001b[1;32m    369\u001b[0m \u001b[38;5;124;03mPredict class labels for samples in X.\u001b[39;00m\n\u001b[1;32m    370\u001b[0m \n\u001b[0;32m   (...)\u001b[0m\n\u001b[1;32m    379\u001b[0m \u001b[38;5;124;03m    Vector containing the class labels for each sample.\u001b[39;00m\n\u001b[1;32m    380\u001b[0m \u001b[38;5;124;03m\"\"\"\u001b[39;00m\n\u001b[1;32m    381\u001b[0m xp, _ \u001b[38;5;241m=\u001b[39m get_namespace(X)\n\u001b[0;32m--> 382\u001b[0m scores \u001b[38;5;241m=\u001b[39m \u001b[38;5;28;43mself\u001b[39;49m\u001b[38;5;241;43m.\u001b[39;49m\u001b[43mdecision_function\u001b[49m\u001b[43m(\u001b[49m\u001b[43mX\u001b[49m\u001b[43m)\u001b[49m\n\u001b[1;32m    383\u001b[0m \u001b[38;5;28;01mif\u001b[39;00m \u001b[38;5;28mlen\u001b[39m(scores\u001b[38;5;241m.\u001b[39mshape) \u001b[38;5;241m==\u001b[39m \u001b[38;5;241m1\u001b[39m:\n\u001b[1;32m    384\u001b[0m     indices \u001b[38;5;241m=\u001b[39m xp\u001b[38;5;241m.\u001b[39mastype(scores \u001b[38;5;241m>\u001b[39m \u001b[38;5;241m0\u001b[39m, indexing_dtype(xp))\n",
                        "File \u001b[0;32m~/.local/lib/python3.12/site-packages/sklearn/linear_model/_base.py:363\u001b[0m, in \u001b[0;36mLinearClassifierMixin.decision_function\u001b[0;34m(self, X)\u001b[0m\n\u001b[1;32m    360\u001b[0m check_is_fitted(\u001b[38;5;28mself\u001b[39m)\n\u001b[1;32m    361\u001b[0m xp, _ \u001b[38;5;241m=\u001b[39m get_namespace(X)\n\u001b[0;32m--> 363\u001b[0m X \u001b[38;5;241m=\u001b[39m \u001b[38;5;28;43mself\u001b[39;49m\u001b[38;5;241;43m.\u001b[39;49m\u001b[43m_validate_data\u001b[49m\u001b[43m(\u001b[49m\u001b[43mX\u001b[49m\u001b[43m,\u001b[49m\u001b[43m \u001b[49m\u001b[43maccept_sparse\u001b[49m\u001b[38;5;241;43m=\u001b[39;49m\u001b[38;5;124;43m\"\u001b[39;49m\u001b[38;5;124;43mcsr\u001b[39;49m\u001b[38;5;124;43m\"\u001b[39;49m\u001b[43m,\u001b[49m\u001b[43m \u001b[49m\u001b[43mreset\u001b[49m\u001b[38;5;241;43m=\u001b[39;49m\u001b[38;5;28;43;01mFalse\u001b[39;49;00m\u001b[43m)\u001b[49m\n\u001b[1;32m    364\u001b[0m scores \u001b[38;5;241m=\u001b[39m safe_sparse_dot(X, \u001b[38;5;28mself\u001b[39m\u001b[38;5;241m.\u001b[39mcoef_\u001b[38;5;241m.\u001b[39mT, dense_output\u001b[38;5;241m=\u001b[39m\u001b[38;5;28;01mTrue\u001b[39;00m) \u001b[38;5;241m+\u001b[39m \u001b[38;5;28mself\u001b[39m\u001b[38;5;241m.\u001b[39mintercept_\n\u001b[1;32m    365\u001b[0m \u001b[38;5;28;01mreturn\u001b[39;00m xp\u001b[38;5;241m.\u001b[39mreshape(scores, (\u001b[38;5;241m-\u001b[39m\u001b[38;5;241m1\u001b[39m,)) \u001b[38;5;28;01mif\u001b[39;00m scores\u001b[38;5;241m.\u001b[39mshape[\u001b[38;5;241m1\u001b[39m] \u001b[38;5;241m==\u001b[39m \u001b[38;5;241m1\u001b[39m \u001b[38;5;28;01melse\u001b[39;00m scores\n",
                        "File \u001b[0;32m~/.local/lib/python3.12/site-packages/sklearn/base.py:654\u001b[0m, in \u001b[0;36mBaseEstimator._validate_data\u001b[0;34m(self, X, y, reset, validate_separately, cast_to_ndarray, **check_params)\u001b[0m\n\u001b[1;32m    651\u001b[0m     out \u001b[38;5;241m=\u001b[39m X, y\n\u001b[1;32m    653\u001b[0m \u001b[38;5;28;01mif\u001b[39;00m \u001b[38;5;129;01mnot\u001b[39;00m no_val_X \u001b[38;5;129;01mand\u001b[39;00m check_params\u001b[38;5;241m.\u001b[39mget(\u001b[38;5;124m\"\u001b[39m\u001b[38;5;124mensure_2d\u001b[39m\u001b[38;5;124m\"\u001b[39m, \u001b[38;5;28;01mTrue\u001b[39;00m):\n\u001b[0;32m--> 654\u001b[0m     \u001b[38;5;28;43mself\u001b[39;49m\u001b[38;5;241;43m.\u001b[39;49m\u001b[43m_check_n_features\u001b[49m\u001b[43m(\u001b[49m\u001b[43mX\u001b[49m\u001b[43m,\u001b[49m\u001b[43m \u001b[49m\u001b[43mreset\u001b[49m\u001b[38;5;241;43m=\u001b[39;49m\u001b[43mreset\u001b[49m\u001b[43m)\u001b[49m\n\u001b[1;32m    656\u001b[0m \u001b[38;5;28;01mreturn\u001b[39;00m out\n",
                        "File \u001b[0;32m~/.local/lib/python3.12/site-packages/sklearn/base.py:443\u001b[0m, in \u001b[0;36mBaseEstimator._check_n_features\u001b[0;34m(self, X, reset)\u001b[0m\n\u001b[1;32m    440\u001b[0m     \u001b[38;5;28;01mreturn\u001b[39;00m\n\u001b[1;32m    442\u001b[0m \u001b[38;5;28;01mif\u001b[39;00m n_features \u001b[38;5;241m!=\u001b[39m \u001b[38;5;28mself\u001b[39m\u001b[38;5;241m.\u001b[39mn_features_in_:\n\u001b[0;32m--> 443\u001b[0m     \u001b[38;5;28;01mraise\u001b[39;00m \u001b[38;5;167;01mValueError\u001b[39;00m(\n\u001b[1;32m    444\u001b[0m         \u001b[38;5;124mf\u001b[39m\u001b[38;5;124m\"\u001b[39m\u001b[38;5;124mX has \u001b[39m\u001b[38;5;132;01m{\u001b[39;00mn_features\u001b[38;5;132;01m}\u001b[39;00m\u001b[38;5;124m features, but \u001b[39m\u001b[38;5;132;01m{\u001b[39;00m\u001b[38;5;28mself\u001b[39m\u001b[38;5;241m.\u001b[39m\u001b[38;5;18m__class__\u001b[39m\u001b[38;5;241m.\u001b[39m\u001b[38;5;18m__name__\u001b[39m\u001b[38;5;132;01m}\u001b[39;00m\u001b[38;5;124m \u001b[39m\u001b[38;5;124m\"\u001b[39m\n\u001b[1;32m    445\u001b[0m         \u001b[38;5;124mf\u001b[39m\u001b[38;5;124m\"\u001b[39m\u001b[38;5;124mis expecting \u001b[39m\u001b[38;5;132;01m{\u001b[39;00m\u001b[38;5;28mself\u001b[39m\u001b[38;5;241m.\u001b[39mn_features_in_\u001b[38;5;132;01m}\u001b[39;00m\u001b[38;5;124m features as input.\u001b[39m\u001b[38;5;124m\"\u001b[39m\n\u001b[1;32m    446\u001b[0m     )\n",
                        "\u001b[0;31mValueError\u001b[0m: X has 2 features, but LogisticRegression is expecting 64 features as input."
                    ]
                }
            ],
            "source": [
                "# Print training accuracies\n",
                "print(\"Softmax     training accuracy:\", lr_mn.score(X_train, y_train))\n",
                "print(\"One-vs-rest training accuracy:\", lr_ovr.score(X_train, y_train))\n",
                "\n",
                "# Create the binary classifier (class 1 vs. rest)\n",
                "lr_class_1 = LogisticRegression(C=100)\n",
                "lr_class_1.fit(X_train, y_train==1)\n",
                "\n",
                "# Plot the binary classifier (class 1 vs. rest)\n",
                "plot_classifier(X_train, y_train==1, lr_class_1)\n"
            ]
        },
        {
            "cell_type": "markdown",
            "metadata": {},
            "source": [
                "### One-vs-rest SVM\n",
                "\n",
                "As motivation for the next and final chapter on support vector machines,\n",
                "we'll repeat the previous exercise with a non-linear SVM. Once again,\n",
                "the data is loaded into `X_train`, `y_train`, `X_test`, and `y_test` .\n",
                "\n",
                "Instead of using `LinearSVC`, we'll now use scikit-learn's `SVC` object,\n",
                "which is a non-linear \"kernel\" SVM (much more on what this means in\n",
                "Chapter 4!). Again, your task is to create a plot of the binary\n",
                "classifier for class 1 vs. rest.\n",
                "\n",
                "**Instructions**\n",
                "\n",
                "- Fit an `SVC` called `svm_class_1` to predict class 1 vs. other\n",
                "  classes.\n",
                "- Plot this classifier.\n",
                "\n",
                "**Answer**\n"
            ]
        },
        {
            "cell_type": "code",
            "execution_count": null,
            "metadata": {},
            "outputs": [],
            "source": [
                "# We'll use SVC instead of LinearSVC from now on\n",
                "from sklearn.svm import SVC\n",
                "\n",
                "# Create/plot the binary classifier (class 1 vs. rest)\n",
                "svm_class_1 = SVC()\n",
                "svm_class_1.fit(X_train, y_train==1)\n",
                "plot_classifier(X_train, y_train==1, svm_class_1)\n"
            ]
        },
        {
            "cell_type": "markdown",
            "metadata": {},
            "source": [
                "## Support Vector Machines\n",
                "\n",
                "### Effect of removing examples\n",
                "\n",
                "Support vectors are defined as training examples that influence the\n",
                "decision boundary. In this exercise, you'll observe this behavior by\n",
                "removing non support vectors from the training set.\n",
                "\n",
                "The wine quality dataset is already loaded into `X` and `y` (first two\n",
                "features only). (Note: we specify `lims` in `plot_classifier()` so that\n",
                "the two plots are forced to use the same axis limits and can be compared\n",
                "directly.)\n",
                "\n",
                "**Instructions**\n",
                "\n",
                "- Train a linear SVM on the whole data set.\n",
                "- Create a new data set containing only the support vectors.\n",
                "- Train a new linear SVM on the smaller data set.\n",
                "\n",
                "**Answer**\n"
            ]
        },
        {
            "cell_type": "code",
            "execution_count": null,
            "metadata": {},
            "outputs": [],
            "source": [
                "# Train a linear SVM\n",
                "svm = SVC(kernel=\"linear\")\n",
                "svm.fit(X,y)\n",
                "plot_classifier(X, y, svm, lims=(11,15,0,6))\n",
                "\n",
                "# Make a new data set keeping only the support vectors\n",
                "print(\"Number of original examples\", len(X))\n",
                "print(\"Number of support vectors\", len(svm.support_))\n",
                "X_small = X[svm.support_]\n",
                "y_small = y[svm.support_]\n",
                "\n",
                "# Train a new SVM using only the support vectors\n",
                "svm_small = SVC(kernel=\"linear\")\n",
                "svm_small.fit(X_small, y_small)\n",
                "plot_classifier(X_small, y_small, svm_small, lims=(11,15,0,6))\n"
            ]
        },
        {
            "cell_type": "markdown",
            "metadata": {},
            "source": [
                "### GridSearchCV warm-up\n",
                "\n",
                "In the video we saw that increasing the RBF kernel hyperparameter\n",
                "`gamma` increases training accuracy. In this exercise we'll search for\n",
                "the `gamma` that maximizes cross-validation accuracy using\n",
                "scikit-learn's `GridSearchCV`. A binary version of the handwritten\n",
                "digits dataset, in which you're just trying to predict whether or not an\n",
                "image is a \"2\", is already loaded into the variables `X` and `y`.\n",
                "\n",
                "**Instructions**\n",
                "\n",
                "- Create a `GridSearchCV` object.\n",
                "- Call the `fit()` method to select the best value of `gamma` based on\n",
                "  cross-validation accuracy.\n",
                "\n",
                "**Answer**\n"
            ]
        },
        {
            "cell_type": "code",
            "execution_count": null,
            "metadata": {},
            "outputs": [],
            "source": [
                "# Instantiate an RBF SVM\n",
                "svm = SVC()\n",
                "\n",
                "# Instantiate the GridSearchCV object and run the search\n",
                "parameters = {'gamma':[0.00001, 0.0001, 0.001, 0.01, 0.1]}\n",
                "searcher = GridSearchCV(svm, parameters)\n",
                "searcher.fit(X, y)\n",
                "\n",
                "# Report the best parameters\n",
                "print(\"Best CV params\", searcher.best_params_)\n"
            ]
        },
        {
            "cell_type": "markdown",
            "metadata": {},
            "source": [
                "### Jointly tuning gamma and C with GridSearchCV\n",
                "\n",
                "In the previous exercise the best value of `gamma` was 0.001 using the\n",
                "default value of `C`, which is 1. In this exercise you'll search for the\n",
                "best combination of `C` and `gamma` using `GridSearchCV`.\n",
                "\n",
                "As in the previous exercise, the 2-vs-not-2 digits dataset is already\n",
                "loaded, but this time it's split into the variables `X_train`,\n",
                "`y_train`, `X_test`, and `y_test`. Even though cross-validation already\n",
                "splits the training set into parts, it's often a good idea to hold out a\n",
                "separate test set to make sure the cross-validation results are\n",
                "sensible.\n",
                "\n",
                "**Instructions**\n",
                "\n",
                "- Run `GridSearchCV` to find the best hyperparameters using the training\n",
                "  set.\n",
                "- Print the best values of the parameters.\n",
                "- Print out the accuracy on the test set, which was not used during the\n",
                "  cross-validation procedure.\n",
                "\n",
                "**Answer**\n"
            ]
        },
        {
            "cell_type": "code",
            "execution_count": null,
            "metadata": {},
            "outputs": [],
            "source": [
                "# Instantiate an RBF SVM\n",
                "svm = SVC()\n",
                "\n",
                "# Instantiate the GridSearchCV object and run the search\n",
                "parameters = {'C':[0.1, 1, 10], 'gamma':[0.00001, 0.0001, 0.001, 0.01, 0.1]}\n",
                "searcher = GridSearchCV(svm, parameters)\n",
                "searcher.fit(X_train, y_train)\n",
                "\n",
                "# Report the best parameters and the corresponding score\n",
                "print(\"Best CV params\", searcher.best_params_)\n",
                "print(\"Best CV accuracy\", searcher.best_score_)\n",
                "\n",
                "# Report the test accuracy using these best parameters\n",
                "print(\"Test accuracy of best grid search hypers:\", searcher.score(X_test, y_test))\n"
            ]
        },
        {
            "cell_type": "markdown",
            "metadata": {},
            "source": [
                "### Using SGDClassifier\n",
                "\n",
                "In this final coding exercise, you'll do a hyperparameter search over\n",
                "the regularization strength and the loss (logistic regression vs. linear\n",
                "SVM) using `SGDClassifier()`.\n",
                "\n",
                "**Instructions**\n",
                "\n",
                "- Instantiate an `SGDClassifier` instance with `random_state=0`.\n",
                "- Search over the regularization strength and the `hinge` vs. `log_loss`\n",
                "  losses.\n",
                "\n",
                "**Answer**\n"
            ]
        },
        {
            "cell_type": "code",
            "execution_count": null,
            "metadata": {},
            "outputs": [],
            "source": [
                "# We set random_state=0 for reproducibility \n",
                "linear_classifier = SGDClassifier(random_state=0)\n",
                "\n",
                "# Instantiate the GridSearchCV object and run the search\n",
                "parameters = {'alpha':[0.00001, 0.0001, 0.001, 0.01, 0.1, 1], \n",
                "             'loss':['hinge', 'log_loss']}\n",
                "searcher = GridSearchCV(linear_classifier, parameters, cv=10)\n",
                "searcher.fit(X_train, y_train)\n",
                "\n",
                "# Report the best parameters and the corresponding score\n",
                "print(\"Best CV params\", searcher.best_params_)\n",
                "print(\"Best CV accuracy\", searcher.best_score_)\n",
                "print(\"Test accuracy of best grid search hypers:\", searcher.score(X_test, y_test))\n"
            ]
        }
    ],
    "metadata": {
        "anaconda-cloud": "",
        "kernelspec": {
            "display_name": "Python 3",
            "language": "python",
            "name": "python3"
        },
        "language_info": {
            "codemirror_mode": {
                "name": "ipython",
                "version": 3
            },
            "file_extension": ".py",
            "mimetype": "text/x-python",
            "name": "python",
            "nbconvert_exporter": "python",
            "pygments_lexer": "ipython3",
            "version": "3.12.3"
        }
    },
    "nbformat": 4,
    "nbformat_minor": 1
}
