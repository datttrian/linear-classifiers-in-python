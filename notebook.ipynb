{
    "cells": [
        {
            "cell_type": "markdown",
            "metadata": {},
            "source": [
                "# Linear Classifiers in Python\n",
                "\n",
                "## Applying logistic regression and SVM\n",
                "\n",
                "### KNN classification\n",
                "\n",
                "In this exercise you'll explore a subset of the [Large Movie Review\n",
                "Dataset](https://ai.stanford.edu/~amaas/data/sentiment/). The variables\n",
                "`X_train`, `X_test`, `y_train`, and `y_test` are already loaded into the\n",
                "environment. The `X` variables contain features based on the words in\n",
                "the movie reviews, and the `y` variables contain labels for whether the\n",
                "review sentiment is positive (+1) or negative (-1).\n",
                "\n",
                "*This course touches on a lot of concepts you may have forgotten, so if\n",
                "you ever need a quick refresher, download the [scikit-learn Cheat\n",
                "Sheet](https://www.datacamp.com/cheat-sheet/scikit-learn-cheat-sheet-python-machine-learning)\n",
                "and keep it handy!*\n",
                "\n",
                "**Instructions**\n",
                "\n",
                "- Create a KNN model with default hyperparameters.\n",
                "- Fit the model.\n",
                "- Print out the prediction for the test example 0.\n",
                "\n",
                "**Answer**\n"
            ]
        },
        {
            "cell_type": "code",
            "execution_count": null,
            "metadata": {},
            "outputs": [],
            "source": [
                "pip install numpy scikit-learn"
            ]
        },
        {
            "cell_type": "code",
            "execution_count": 34,
            "metadata": {},
            "outputs": [],
            "source": [
                "# added/edited\n",
                "import numpy as np\n",
                "from sklearn.datasets import load_svmlight_file\n",
                "X_train, y_train = load_svmlight_file('aclImdb/train/labeledBow.feat')\n",
                "X_test, y_test = load_svmlight_file('aclImdb/test/labeledBow.feat')\n",
                "y_train = np.where(y_train < 5, -1.0, 1.0)\n",
                "y_test = np.where(y_test < 5, -1.0, 1.0)\n",
                "X_train = X_train[:, :X_test.shape[1]]"
            ]
        },
        {
            "cell_type": "code",
            "execution_count": 35,
            "metadata": {},
            "outputs": [
                {
                    "name": "stdout",
                    "output_type": "stream",
                    "text": [
                        "Prediction for test example 0: -1.0\n"
                    ]
                }
            ],
            "source": [
                "from sklearn.neighbors import KNeighborsClassifier\n",
                "\n",
                "# Create and fit the model\n",
                "knn = KNeighborsClassifier()\n",
                "knn.fit(X_train, y_train)\n",
                "\n",
                "# Predict on the test features, print the results\n",
                "pred = knn.predict(X_test)[0]\n",
                "print(\"Prediction for test example 0:\", pred)"
            ]
        },
        {
            "cell_type": "markdown",
            "metadata": {},
            "source": [
                "### Running LogisticRegression and SVC\n",
                "\n",
                "In this exercise, you'll apply logistic regression and a support vector\n",
                "machine to classify images of handwritten digits.\n",
                "\n",
                "**Instructions**\n",
                "\n",
                "- Apply logistic regression and SVM (using `SVC()`) to the handwritten\n",
                "  digits data set using the provided train/validation split.\n",
                "- For each classifier, print out the training and validation accuracy.\n",
                "\n",
                "**Answer**\n"
            ]
        },
        {
            "cell_type": "code",
            "execution_count": 36,
            "metadata": {},
            "outputs": [],
            "source": [
                "# added/edited\n",
                "from sklearn.model_selection import train_test_split\n",
                "from sklearn.linear_model import LogisticRegression\n",
                "from sklearn.svm import SVC"
            ]
        },
        {
            "cell_type": "code",
            "execution_count": 37,
            "metadata": {},
            "outputs": [
                {
                    "name": "stdout",
                    "output_type": "stream",
                    "text": [
                        "1.0\n",
                        "0.9711111111111111\n",
                        "0.9955456570155902\n",
                        "0.9933333333333333\n"
                    ]
                },
                {
                    "name": "stderr",
                    "output_type": "stream",
                    "text": [
                        "/home/vscode/.local/lib/python3.12/site-packages/sklearn/linear_model/_logistic.py:469: ConvergenceWarning: lbfgs failed to converge (status=1):\n",
                        "STOP: TOTAL NO. of ITERATIONS REACHED LIMIT.\n",
                        "\n",
                        "Increase the number of iterations (max_iter) or scale the data as shown in:\n",
                        "    https://scikit-learn.org/stable/modules/preprocessing.html\n",
                        "Please also refer to the documentation for alternative solver options:\n",
                        "    https://scikit-learn.org/stable/modules/linear_model.html#logistic-regression\n",
                        "  n_iter_i = _check_optimize_result(\n"
                    ]
                }
            ],
            "source": [
                "from sklearn import datasets\n",
                "digits = datasets.load_digits()\n",
                "X_train, X_test, y_train, y_test = train_test_split(digits.data, digits.target)\n",
                "\n",
                "# Apply logistic regression and print scores\n",
                "lr = LogisticRegression()\n",
                "lr.fit(X_train, y_train)\n",
                "print(lr.score(X_train, y_train))\n",
                "print(lr.score(X_test, y_test))\n",
                "\n",
                "# Apply SVM and print scores\n",
                "svm = SVC()\n",
                "svm.fit(X_train, y_train)\n",
                "print(svm.score(X_train, y_train))\n",
                "print(svm.score(X_test, y_test))\n"
            ]
        },
        {
            "cell_type": "markdown",
            "metadata": {},
            "source": [
                "### Sentiment analysis for movie reviews\n",
                "\n",
                "In this exercise you'll explore the probabilities outputted by logistic\n",
                "regression on a subset of the [Large Movie Review\n",
                "Dataset](https://ai.stanford.edu/~amaas/data/sentiment/).\n",
                "\n",
                "The variables `X` and `y` are already loaded into the environment. `X`\n",
                "contains features based on the number of times words appear in the movie\n",
                "reviews, and `y` contains labels for whether the review sentiment is\n",
                "positive (+1) or negative (-1).\n",
                "\n",
                "**Instructions**\n",
                "\n",
                "- Train a logistic regression model on the movie review data.\n",
                "- Predict the probabilities of negative vs. positive for the two given\n",
                "  reviews.\n",
                "- Feel free to write your own reviews and get probabilities for those\n",
                "  too!\n",
                "\n",
                "**Answer**\n"
            ]
        },
        {
            "cell_type": "code",
            "execution_count": 44,
            "metadata": {},
            "outputs": [
                {
                    "name": "stdout",
                    "output_type": "stream",
                    "text": [
                        "Defaulting to user installation because normal site-packages is not writeable\n",
                        "Collecting pandas\n",
                        "  Downloading pandas-2.2.2-cp312-cp312-manylinux_2_17_aarch64.manylinux2014_aarch64.whl.metadata (19 kB)\n",
                        "Requirement already satisfied: numpy>=1.26.0 in /home/vscode/.local/lib/python3.12/site-packages (from pandas) (1.26.4)\n",
                        "Requirement already satisfied: python-dateutil>=2.8.2 in /home/vscode/.local/lib/python3.12/site-packages (from pandas) (2.9.0.post0)\n",
                        "Collecting pytz>=2020.1 (from pandas)\n",
                        "  Downloading pytz-2024.1-py2.py3-none-any.whl.metadata (22 kB)\n",
                        "Collecting tzdata>=2022.7 (from pandas)\n",
                        "  Downloading tzdata-2024.1-py2.py3-none-any.whl.metadata (1.4 kB)\n",
                        "Requirement already satisfied: six>=1.5 in /home/vscode/.local/lib/python3.12/site-packages (from python-dateutil>=2.8.2->pandas) (1.16.0)\n",
                        "Downloading pandas-2.2.2-cp312-cp312-manylinux_2_17_aarch64.manylinux2014_aarch64.whl (15.2 MB)\n",
                        "\u001b[2K   \u001b[90m━━━━━━━━━━━━━━━━━━━━━━━━━━━━━━━━━━━━━━━━\u001b[0m \u001b[32m15.2/15.2 MB\u001b[0m \u001b[31m16.3 MB/s\u001b[0m eta \u001b[36m0:00:00\u001b[0m00:01\u001b[0m00:01\u001b[0m\n",
                        "\u001b[?25hDownloading pytz-2024.1-py2.py3-none-any.whl (505 kB)\n",
                        "\u001b[2K   \u001b[90m━━━━━━━━━━━━━━━━━━━━━━━━━━━━━━━━━━━━━━━━\u001b[0m \u001b[32m505.5/505.5 kB\u001b[0m \u001b[31m22.1 MB/s\u001b[0m eta \u001b[36m0:00:00\u001b[0m\n",
                        "\u001b[?25hDownloading tzdata-2024.1-py2.py3-none-any.whl (345 kB)\n",
                        "\u001b[2K   \u001b[90m━━━━━━━━━━━━━━━━━━━━━━━━━━━━━━━━━━━━━━━━\u001b[0m \u001b[32m345.4/345.4 kB\u001b[0m \u001b[31m18.7 MB/s\u001b[0m eta \u001b[36m0:00:00\u001b[0m\n",
                        "\u001b[?25hInstalling collected packages: pytz, tzdata, pandas\n",
                        "Successfully installed pandas-2.2.2 pytz-2024.1 tzdata-2024.1\n",
                        "Note: you may need to restart the kernel to use updated packages.\n"
                    ]
                }
            ],
            "source": [
                "pip install pandas"
            ]
        },
        {
            "cell_type": "code",
            "execution_count": 50,
            "metadata": {},
            "outputs": [],
            "source": [
                "# added/edited\n",
                "import numpy as np\n",
                "import pandas as pd\n",
                "from sklearn.datasets import load_svmlight_file\n",
                "from sklearn.feature_extraction.text import CountVectorizer\n",
                "import pandas as pd\n",
                "\n",
                "X_train, y_train = load_svmlight_file('aclImdb/train/labeledBow.feat')\n",
                "y = np.where(y < 5, -1.0, 1.0)\n",
                "\n",
                "vocabulary = pd.read_csv('aclImdb/imdb.vocab', header=None).values.flatten()\n",
                "vectorizer = CountVectorizer()\n",
                "def get_features(review):\n",
                "    return vectorizer.transform([review])\n"
            ]
        },
        {
            "cell_type": "code",
            "execution_count": 51,
            "metadata": {},
            "outputs": [
                {
                    "name": "stderr",
                    "output_type": "stream",
                    "text": [
                        "/home/vscode/.local/lib/python3.12/site-packages/sklearn/linear_model/_logistic.py:469: ConvergenceWarning: lbfgs failed to converge (status=1):\n",
                        "STOP: TOTAL NO. of ITERATIONS REACHED LIMIT.\n",
                        "\n",
                        "Increase the number of iterations (max_iter) or scale the data as shown in:\n",
                        "    https://scikit-learn.org/stable/modules/preprocessing.html\n",
                        "Please also refer to the documentation for alternative solver options:\n",
                        "    https://scikit-learn.org/stable/modules/linear_model.html#logistic-regression\n",
                        "  n_iter_i = _check_optimize_result(\n"
                    ]
                },
                {
                    "ename": "NotFittedError",
                    "evalue": "Vocabulary not fitted or provided",
                    "output_type": "error",
                    "traceback": [
                        "\u001b[0;31m---------------------------------------------------------------------------\u001b[0m",
                        "\u001b[0;31mNotFittedError\u001b[0m                            Traceback (most recent call last)",
                        "Cell \u001b[0;32mIn[51], line 7\u001b[0m\n\u001b[1;32m      5\u001b[0m \u001b[38;5;66;03m# Predict sentiment for a glowing review\u001b[39;00m\n\u001b[1;32m      6\u001b[0m review1 \u001b[38;5;241m=\u001b[39m \u001b[38;5;124m\"\u001b[39m\u001b[38;5;124mLOVED IT! This movie was amazing. Top 10 this year.\u001b[39m\u001b[38;5;124m\"\u001b[39m\n\u001b[0;32m----> 7\u001b[0m review1_features \u001b[38;5;241m=\u001b[39m \u001b[43mget_features\u001b[49m\u001b[43m(\u001b[49m\u001b[43mreview1\u001b[49m\u001b[43m)\u001b[49m\n\u001b[1;32m      8\u001b[0m \u001b[38;5;28mprint\u001b[39m(\u001b[38;5;124m\"\u001b[39m\u001b[38;5;124mReview:\u001b[39m\u001b[38;5;124m\"\u001b[39m, review1)\n\u001b[1;32m      9\u001b[0m \u001b[38;5;28mprint\u001b[39m(\u001b[38;5;124m\"\u001b[39m\u001b[38;5;124mProbability of positive review:\u001b[39m\u001b[38;5;124m\"\u001b[39m, lr\u001b[38;5;241m.\u001b[39mpredict_proba(review1_features)[\u001b[38;5;241m0\u001b[39m,\u001b[38;5;241m1\u001b[39m])\n",
                        "Cell \u001b[0;32mIn[50], line 14\u001b[0m, in \u001b[0;36mget_features\u001b[0;34m(review)\u001b[0m\n\u001b[1;32m     13\u001b[0m \u001b[38;5;28;01mdef\u001b[39;00m \u001b[38;5;21mget_features\u001b[39m(review):\n\u001b[0;32m---> 14\u001b[0m     \u001b[38;5;28;01mreturn\u001b[39;00m \u001b[43mvectorizer\u001b[49m\u001b[38;5;241;43m.\u001b[39;49m\u001b[43mtransform\u001b[49m\u001b[43m(\u001b[49m\u001b[43m[\u001b[49m\u001b[43mreview\u001b[49m\u001b[43m]\u001b[49m\u001b[43m)\u001b[49m\n",
                        "File \u001b[0;32m~/.local/lib/python3.12/site-packages/sklearn/feature_extraction/text.py:1416\u001b[0m, in \u001b[0;36mCountVectorizer.transform\u001b[0;34m(self, raw_documents)\u001b[0m\n\u001b[1;32m   1412\u001b[0m \u001b[38;5;28;01mif\u001b[39;00m \u001b[38;5;28misinstance\u001b[39m(raw_documents, \u001b[38;5;28mstr\u001b[39m):\n\u001b[1;32m   1413\u001b[0m     \u001b[38;5;28;01mraise\u001b[39;00m \u001b[38;5;167;01mValueError\u001b[39;00m(\n\u001b[1;32m   1414\u001b[0m         \u001b[38;5;124m\"\u001b[39m\u001b[38;5;124mIterable over raw text documents expected, string object received.\u001b[39m\u001b[38;5;124m\"\u001b[39m\n\u001b[1;32m   1415\u001b[0m     )\n\u001b[0;32m-> 1416\u001b[0m \u001b[38;5;28;43mself\u001b[39;49m\u001b[38;5;241;43m.\u001b[39;49m\u001b[43m_check_vocabulary\u001b[49m\u001b[43m(\u001b[49m\u001b[43m)\u001b[49m\n\u001b[1;32m   1418\u001b[0m \u001b[38;5;66;03m# use the same matrix-building strategy as fit_transform\u001b[39;00m\n\u001b[1;32m   1419\u001b[0m _, X \u001b[38;5;241m=\u001b[39m \u001b[38;5;28mself\u001b[39m\u001b[38;5;241m.\u001b[39m_count_vocab(raw_documents, fixed_vocab\u001b[38;5;241m=\u001b[39m\u001b[38;5;28;01mTrue\u001b[39;00m)\n",
                        "File \u001b[0;32m~/.local/lib/python3.12/site-packages/sklearn/feature_extraction/text.py:507\u001b[0m, in \u001b[0;36m_VectorizerMixin._check_vocabulary\u001b[0;34m(self)\u001b[0m\n\u001b[1;32m    505\u001b[0m     \u001b[38;5;28mself\u001b[39m\u001b[38;5;241m.\u001b[39m_validate_vocabulary()\n\u001b[1;32m    506\u001b[0m     \u001b[38;5;28;01mif\u001b[39;00m \u001b[38;5;129;01mnot\u001b[39;00m \u001b[38;5;28mself\u001b[39m\u001b[38;5;241m.\u001b[39mfixed_vocabulary_:\n\u001b[0;32m--> 507\u001b[0m         \u001b[38;5;28;01mraise\u001b[39;00m NotFittedError(\u001b[38;5;124m\"\u001b[39m\u001b[38;5;124mVocabulary not fitted or provided\u001b[39m\u001b[38;5;124m\"\u001b[39m)\n\u001b[1;32m    509\u001b[0m \u001b[38;5;28;01mif\u001b[39;00m \u001b[38;5;28mlen\u001b[39m(\u001b[38;5;28mself\u001b[39m\u001b[38;5;241m.\u001b[39mvocabulary_) \u001b[38;5;241m==\u001b[39m \u001b[38;5;241m0\u001b[39m:\n\u001b[1;32m    510\u001b[0m     \u001b[38;5;28;01mraise\u001b[39;00m \u001b[38;5;167;01mValueError\u001b[39;00m(\u001b[38;5;124m\"\u001b[39m\u001b[38;5;124mVocabulary is empty\u001b[39m\u001b[38;5;124m\"\u001b[39m)\n",
                        "\u001b[0;31mNotFittedError\u001b[0m: Vocabulary not fitted or provided"
                    ]
                }
            ],
            "source": [
                "# Instantiate logistic regression and train\n",
                "lr = LogisticRegression()\n",
                "lr.fit(X, y)\n",
                "\n",
                "# Predict sentiment for a glowing review\n",
                "review1 = \"LOVED IT! This movie was amazing. Top 10 this year.\"\n",
                "review1_features = get_features(review1)\n",
                "print(\"Review:\", review1)\n",
                "print(\"Probability of positive review:\", lr.predict_proba(review1_features)[0,1])\n",
                "\n",
                "# Predict sentiment for a poor review\n",
                "review2 = \"Total junk! I'll never watch a film by that director again, no matter how good the reviews.\"\n",
                "review2_features = get_features(review2)\n",
                "print(\"Review:\", review2)\n",
                "print(\"Probability of positive review:\", lr.predict_proba(review2_features)[0,1])\n"
            ]
        },
        {
            "cell_type": "markdown",
            "metadata": {},
            "source": [
                "### Visualizing decision boundaries\n",
                "\n",
                "In this exercise, you'll visualize the decision boundaries of various\n",
                "classifier types.\n",
                "\n",
                "A subset of `scikit-learn`'s built-in `wine` dataset is already loaded\n",
                "into `X`, along with binary labels in `y`.\n",
                "\n",
                "**Instructions**\n",
                "\n",
                "- Create the following classifier objects with default hyperparameters:\n",
                "  `LogisticRegression`, `LinearSVC`, `SVC`, `KNeighborsClassifier`.\n",
                "- Fit each of the classifiers on the provided data using a `for` loop.\n",
                "- Call the `plot_4_classifers()` function (similar to the code\n",
                "  [here](https://scikit-learn.org/stable/auto_examples/svm/plot_iris_svc.html)),\n",
                "  passing in `X`, `y`, and a list containing the four classifiers.\n",
                "\n",
                "**Answer**\n"
            ]
        },
        {
            "cell_type": "code",
            "execution_count": null,
            "metadata": {},
            "outputs": [],
            "source": [
                "from sklearn.linear_model import LogisticRegression\n",
                "from sklearn.svm import SVC, LinearSVC\n",
                "from sklearn.neighbors import KNeighborsClassifier\n",
                "\n",
                "# Define the classifiers\n",
                "classifiers = [LogisticRegression(), LinearSVC(),\n",
                "               SVC(), KNeighborsClassifier()]\n",
                "\n",
                "# Fit the classifiers\n",
                "for c in classifiers:\n",
                "    c.fit(X, y)\n",
                "\n",
                "# Plot the classifiers\n",
                "plot_4_classifiers(X, y, classifiers)\n",
                "plt.show()\n"
            ]
        },
        {
            "cell_type": "markdown",
            "metadata": {},
            "source": [
                "## Loss functions\n",
                "\n",
                "### Changing the model coefficients\n",
                "\n",
                "When you call `fit` with scikit-learn, the logistic regression\n",
                "coefficients are automatically learned from your dataset. In this\n",
                "exercise you will explore how the decision boundary is represented by\n",
                "the coefficients. To do so, you will change the coefficients manually\n",
                "(instead of with `fit`), and visualize the resulting classifiers.\n",
                "\n",
                "A 2D dataset is already loaded into the environment as `X` and `y`,\n",
                "along with a linear classifier object `model`.\n",
                "\n",
                "**Instructions**\n",
                "\n",
                "- Set the two coefficients and the intercept to various values and\n",
                "  observe the resulting decision boundaries.\n",
                "- Try to build up a sense of how the coefficients relate to the decision\n",
                "  boundary.\n",
                "- Set the coefficients and intercept such that the model makes no errors\n",
                "  on the given training data.\n",
                "\n",
                "**Answer**\n"
            ]
        },
        {
            "cell_type": "code",
            "execution_count": null,
            "metadata": {},
            "outputs": [],
            "source": [
                "# Set the coefficients\n",
                "model.coef_ = np.array([[-1,1]])\n",
                "model.intercept_ = np.array([-3])\n",
                "\n",
                "# Plot the data and decision boundary\n",
                "plot_classifier(X,y,model)\n",
                "\n",
                "# Print the number of errors\n",
                "num_err = np.sum(y != model.predict(X))\n",
                "print(\"Number of errors:\", num_err)\n"
            ]
        },
        {
            "cell_type": "markdown",
            "metadata": {},
            "source": [
                "### Minimizing a loss function\n",
                "\n",
                "In this exercise you'll implement linear regression \"from scratch\" using\n",
                "`scipy.optimize.minimize`.\n",
                "\n",
                "We'll train a model on the Boston housing price data set, which is\n",
                "already loaded into the variables `X` and `y`. For simplicity, we won't\n",
                "include an intercept in our regression model.\n",
                "\n",
                "**Instructions**\n",
                "\n",
                "- Fill in the loss function for least squares linear regression.\n",
                "- Print out the coefficients from fitting sklearn's `LinearRegression`.\n",
                "\n",
                "**Answer**\n"
            ]
        },
        {
            "cell_type": "code",
            "execution_count": null,
            "metadata": {},
            "outputs": [],
            "source": [
                "# The squared error, summed over training examples\n",
                "def my_loss(w):\n",
                "    s = 0\n",
                "    for i in range(y.size):\n",
                "        # Get the true and predicted target values for example 'i'\n",
                "        y_i_true = y[i]\n",
                "        y_i_pred = w@X[i]\n",
                "        s = s + (y_i_true - y_i_pred)**2\n",
                "    return s\n",
                "\n",
                "# Returns the w that makes my_loss(w) smallest\n",
                "w_fit = minimize(my_loss, X[0]).x\n",
                "print(w_fit)\n",
                "\n",
                "# Compare with scikit-learn's LinearRegression coefficients\n",
                "lr = LinearRegression(fit_intercept=False).fit(X,y)\n",
                "print(lr.coef_)\n"
            ]
        },
        {
            "cell_type": "markdown",
            "metadata": {},
            "source": [
                "### Comparing the logistic and hinge losses\n",
                "\n",
                "In this exercise you'll create a plot of the logistic and hinge losses\n",
                "using their mathematical expressions, which are provided to you.\n",
                "\n",
                "The loss function diagram from the video is shown on the right.\n",
                "\n",
                "**Instructions**\n",
                "\n",
                "- Evaluate the `log_loss()` and `hinge_loss()` functions **at the grid\n",
                "  points** so that they are plotted.\n",
                "\n",
                "**Answer**\n"
            ]
        },
        {
            "cell_type": "code",
            "execution_count": null,
            "metadata": {},
            "outputs": [],
            "source": [
                "# Mathematical functions for logistic and hinge losses\n",
                "def log_loss(raw_model_output):\n",
                "   return np.log(1+np.exp(-raw_model_output))\n",
                "def hinge_loss(raw_model_output):\n",
                "   return np.maximum(0,1-raw_model_output)\n",
                "\n",
                "# Create a grid of values and plot\n",
                "grid = np.linspace(-2,2,1000)\n",
                "plt.plot(grid, log_loss(grid), label='logistic')\n",
                "plt.plot(grid, hinge_loss(grid), label='hinge')\n",
                "plt.legend()\n",
                "plt.show()\n"
            ]
        },
        {
            "cell_type": "markdown",
            "metadata": {},
            "source": [
                "### Implementing logistic regression\n",
                "\n",
                "This is very similar to the earlier exercise where you implemented\n",
                "linear regression \"from scratch\" using `scipy.optimize.minimize`.\n",
                "However, this time we'll minimize the logistic loss and compare with\n",
                "scikit-learn's `LogisticRegression` (we've set `C` to a large value to\n",
                "disable regularization; more on this in Chapter 3!).\n",
                "\n",
                "The `log_loss()` function from the previous exercise is already defined\n",
                "in your environment, and the `sklearn` breast cancer prediction dataset\n",
                "(first 10 features, standardized) is loaded into the variables `X` and\n",
                "`y`.\n",
                "\n",
                "**Instructions**\n",
                "\n",
                "- Input the number of training examples into `range()`.\n",
                "- Fill in the loss function for logistic regression.\n",
                "- Compare the coefficients to sklearn's `LogisticRegression`.\n",
                "\n",
                "**Answer**\n"
            ]
        },
        {
            "cell_type": "code",
            "execution_count": null,
            "metadata": {},
            "outputs": [],
            "source": [
                "# The logistic loss, summed over training examples\n",
                "def my_loss(w):\n",
                "    s = 0\n",
                "    for i in range(y.size):\n",
                "        raw_model_output = w@X[i]\n",
                "        s = s + log_loss(raw_model_output * y[i])\n",
                "    return s\n",
                "\n",
                "# Returns the w that makes my_loss(w) smallest\n",
                "w_fit = minimize(my_loss, X[0]).x\n",
                "print(w_fit)\n",
                "\n",
                "# Compare with scikit-learn's LogisticRegression\n",
                "lr = LogisticRegression(fit_intercept=False, C=1000000).fit(X,y)\n",
                "print(lr.coef_)\n"
            ]
        },
        {
            "cell_type": "markdown",
            "metadata": {},
            "source": [
                "## Logistic regression\n",
                "\n",
                "### Regularized logistic regression\n",
                "\n",
                "In Chapter 1, you used logistic regression on the handwritten digits\n",
                "data set. Here, we'll explore the effect of L2 regularization.\n",
                "\n",
                "The handwritten digits dataset is already loaded, split, and stored in\n",
                "the variables `X_train`, `y_train`, `X_valid`, and `y_valid`. The\n",
                "variables `train_errs` and `valid_errs` are already initialized as empty\n",
                "lists.\n",
                "\n",
                "**Instructions**\n",
                "\n",
                "- Loop over the different values of `C_value`, creating and fitting a\n",
                "  `LogisticRegression` model each time.\n",
                "- Save the error on the training set and the validation set for each\n",
                "  model.\n",
                "- Create a plot of the training and testing error as a function of the\n",
                "  regularization parameter, `C`.\n",
                "- Looking at the plot, what's the best value of `C`?\n",
                "\n",
                "**Answer**\n"
            ]
        },
        {
            "cell_type": "code",
            "execution_count": null,
            "metadata": {},
            "outputs": [],
            "source": [
                "# Train and validaton errors initialized as empty list\n",
                "train_errs = list()\n",
                "valid_errs = list()\n",
                "\n",
                "# Loop over values of C_value\n",
                "for C_value in [0.001, 0.01, 0.1, 1, 10, 100, 1000]:\n",
                "    # Create LogisticRegression object and fit\n",
                "    lr = LogisticRegression(C=C_value)\n",
                "    lr.fit(X_train, y_train)\n",
                "    \n",
                "    # Evaluate error rates and append to lists\n",
                "    train_errs.append( 1.0 - lr.score(X_train, y_train) )\n",
                "    valid_errs.append( 1.0 - lr.score(X_valid, y_valid) )\n",
                "    \n",
                "# Plot results\n",
                "plt.semilogx(C_values, train_errs, C_values, valid_errs)\n",
                "plt.legend((\"train\", \"validation\"))\n",
                "plt.show()\n"
            ]
        },
        {
            "cell_type": "markdown",
            "metadata": {},
            "source": [
                "### Logistic regression and feature selection\n",
                "\n",
                "In this exercise we'll perform feature selection on the movie review\n",
                "sentiment data set using L1 regularization. The features and targets are\n",
                "already loaded for you in `X_train` and `y_train`.\n",
                "\n",
                "We'll search for the best value of `C` using scikit-learn's\n",
                "`GridSearchCV()`, which was covered in the prerequisite course.\n",
                "\n",
                "**Instructions**\n",
                "\n",
                "- Instantiate a logistic regression object that uses L1 regularization.\n",
                "- Find the value of `C` that minimizes cross-validation error.\n",
                "- Print out the number of selected features for this value of `C`.\n",
                "\n",
                "**Answer**\n"
            ]
        },
        {
            "cell_type": "code",
            "execution_count": null,
            "metadata": {},
            "outputs": [],
            "source": [
                "# Specify L1 regularization\n",
                "lr = LogisticRegression(solver='liblinear', penalty='l1')\n",
                "\n",
                "# Instantiate the GridSearchCV object and run the search\n",
                "searcher = GridSearchCV(lr, {'C':[0.001, 0.01, 0.1, 1, 10]})\n",
                "searcher.fit(X_train, y_train)\n",
                "\n",
                "# Report the best parameters\n",
                "print(\"Best CV params\", searcher.best_params_)\n",
                "\n",
                "# Find the number of nonzero coefficients (selected features)\n",
                "best_lr = searcher.best_estimator_\n",
                "coefs = best_lr.coef_\n",
                "print(\"Total number of features:\", coefs.size)\n",
                "print(\"Number of selected features:\", np.count_nonzero(coefs))\n"
            ]
        },
        {
            "cell_type": "markdown",
            "metadata": {},
            "source": [
                "### Identifying the most positive and negative words\n",
                "\n",
                "In this exercise we'll try to interpret the coefficients of a logistic\n",
                "regression fit on the movie review sentiment dataset. The model object\n",
                "is already instantiated and fit for you in the variable `lr`.\n",
                "\n",
                "In addition, the words corresponding to the different features are\n",
                "loaded into the variable `vocab`. For example, since `vocab[100]` is\n",
                "\"think\", that means feature 100 corresponds to the number of times the\n",
                "word \"think\" appeared in that movie review.\n",
                "\n",
                "**Instructions**\n",
                "\n",
                "- Find the words corresponding to the 5 largest coefficients.\n",
                "- Find the words corresponding to the 5 smallest coefficients.\n",
                "\n",
                "**Answer**\n"
            ]
        },
        {
            "cell_type": "code",
            "execution_count": null,
            "metadata": {},
            "outputs": [],
            "source": [
                "# Get the indices of the sorted cofficients\n",
                "inds_ascending = np.argsort(lr.coef_.flatten()) \n",
                "inds_descending = inds_ascending[::-1]\n",
                "\n",
                "# Print the most positive words\n",
                "print(\"Most positive words: \", end=\"\")\n",
                "for i in range(5):\n",
                "    print(vocab[inds_descending[i]], end=\", \")\n",
                "print(\"\\n\")\n",
                "\n",
                "# Print most negative words\n",
                "print(\"Most negative words: \", end=\"\")\n",
                "for i in range(5):\n",
                "    print(vocab[inds_ascending[i]], end=\", \")\n",
                "print(\"\\n\")\n"
            ]
        },
        {
            "cell_type": "markdown",
            "metadata": {},
            "source": [
                "### Regularization and probabilities\n",
                "\n",
                "In this exercise, you will observe the effects of changing the\n",
                "regularization strength on the predicted probabilities.\n",
                "\n",
                "A 2D binary classification dataset is already loaded into the\n",
                "environment as `X` and `y`.\n",
                "\n",
                "**Instructions**\n",
                "\n",
                "- Compute the maximum predicted probability.\n",
                "- Run the provided code and take a look at the plot.\n",
                "\n",
                "<!-- -->\n",
                "\n",
                "- Create a model with `C=0.1` and examine how the plot and probabilities\n",
                "  change.\n",
                "\n",
                "**Answer**\n"
            ]
        },
        {
            "cell_type": "code",
            "execution_count": null,
            "metadata": {},
            "outputs": [],
            "source": [
                "# Set the regularization strength\n",
                "model = LogisticRegression(C=1)\n",
                "\n",
                "# Fit and plot\n",
                "model.fit(X,y)\n",
                "plot_classifier(X,y,model,proba=True)\n",
                "\n",
                "# Predict probabilities on training points\n",
                "prob = model.predict_proba(X)\n",
                "print(\"Maximum predicted probability\", np.max(prob))\n",
                "\n",
                "# Set the regularization strength\n",
                "model = LogisticRegression(C=0.1)\n",
                "\n",
                "# Fit and plot\n",
                "model.fit(X,y)\n",
                "plot_classifier(X,y,model,proba=True)\n",
                "\n",
                "# Predict probabilities on training points\n",
                "prob = model.predict_proba(X)\n",
                "print(\"Maximum predicted probability\", np.max(prob))\n"
            ]
        },
        {
            "cell_type": "markdown",
            "metadata": {},
            "source": [
                "### Visualizing easy and difficult examples\n",
                "\n",
                "In this exercise, you'll visualize the examples that the logistic\n",
                "regression model is most and least confident about by looking at the\n",
                "largest and smallest predicted probabilities.\n",
                "\n",
                "The handwritten digits dataset is already loaded into the variables `X`\n",
                "and `y`. The `show_digit` function takes in an integer index and plots\n",
                "the corresponding image, with some extra information displayed above the\n",
                "image.\n",
                "\n",
                "**Instructions**\n",
                "\n",
                "- Fill in the first blank with the *index* of the digit that the model\n",
                "  is most confident about.\n",
                "- Fill in the second blank with the *index* of the digit that the model\n",
                "  is least confident about.\n",
                "- Observe the images: do you agree that the first one is less ambiguous\n",
                "  than the second?\n",
                "\n",
                "**Answer**\n"
            ]
        },
        {
            "cell_type": "code",
            "execution_count": null,
            "metadata": {},
            "outputs": [],
            "source": [
                "lr = LogisticRegression()\n",
                "lr.fit(X,y)\n",
                "\n",
                "# Get predicted probabilities\n",
                "proba = lr.predict_proba(X)\n",
                "\n",
                "# Sort the example indices by their maximum probability\n",
                "proba_inds = np.argsort(np.max(proba,axis=1))\n",
                "\n",
                "# Show the most confident (least ambiguous) digit\n",
                "show_digit(proba_inds[-1], lr)\n",
                "\n",
                "# Show the least confident (most ambiguous) digit\n",
                "show_digit(proba_inds[0], lr)\n"
            ]
        },
        {
            "cell_type": "markdown",
            "metadata": {},
            "source": [
                "### Fitting multi-class logistic regression\n",
                "\n",
                "In this exercise, you'll fit the two types of multi-class logistic\n",
                "regression, one-vs-rest and softmax/multinomial, on the handwritten\n",
                "digits data set and compare the results. The handwritten digits dataset\n",
                "is already loaded and split into `X_train`, `y_train`, `X_test`, and\n",
                "`y_test`.\n",
                "\n",
                "**Instructions**\n",
                "\n",
                "- Fit a one-vs-rest logistic regression classifier by setting the\n",
                "  `multi_class` parameter and report the results.\n",
                "- Fit a multinomial logistic regression classifier by setting the\n",
                "  `multi_class` parameter and report the results.\n",
                "\n",
                "**Answer**\n"
            ]
        },
        {
            "cell_type": "code",
            "execution_count": null,
            "metadata": {},
            "outputs": [],
            "source": [
                "# Fit one-vs-rest logistic regression classifier\n",
                "lr_ovr = LogisticRegression(multi_class=\"ovr\")\n",
                "lr_ovr.fit(X_train, y_train)\n",
                "\n",
                "print(\"OVR training accuracy:\", lr_ovr.score(X_train, y_train))\n",
                "print(\"OVR test accuracy    :\", lr_ovr.score(X_test, y_test))\n",
                "\n",
                "# Fit softmax classifier\n",
                "lr_mn = LogisticRegression(multi_class=\"multinomial\")\n",
                "lr_mn.fit(X_train, y_train)\n",
                "\n",
                "print(\"Softmax training accuracy:\", lr_mn.score(X_train, y_train))\n",
                "print(\"Softmax test accuracy    :\", lr_mn.score(X_test, y_test))\n"
            ]
        },
        {
            "cell_type": "markdown",
            "metadata": {},
            "source": [
                "### Visualizing multi-class logistic regression\n",
                "\n",
                "In this exercise we'll continue with the two types of multi-class\n",
                "logistic regression, but on a toy 2D data set specifically designed to\n",
                "break the one-vs-rest scheme.\n",
                "\n",
                "The data set is loaded into `X_train` and `y_train`. The two logistic\n",
                "regression objects,`lr_mn` and `lr_ovr`, are already instantiated (with\n",
                "`C=100`), fit, and plotted.\n",
                "\n",
                "Notice that `lr_ovr` never predicts the dark blue class… yikes! Let's\n",
                "explore why this happens by plotting one of the binary classifiers that\n",
                "it's using behind the scenes.\n",
                "\n",
                "**Instructions**\n",
                "\n",
                "- Create a new logistic regression object (also with `C=100`) to be used\n",
                "  for binary classification.\n",
                "- Visualize this binary classifier with `plot_classifier`… does it look\n",
                "  reasonable?\n",
                "\n",
                "**Answer**\n"
            ]
        },
        {
            "cell_type": "code",
            "execution_count": null,
            "metadata": {},
            "outputs": [],
            "source": [
                "# Print training accuracies\n",
                "print(\"Softmax     training accuracy:\", lr_mn.score(X_train, y_train))\n",
                "print(\"One-vs-rest training accuracy:\", lr_ovr.score(X_train, y_train))\n",
                "\n",
                "# Create the binary classifier (class 1 vs. rest)\n",
                "lr_class_1 = LogisticRegression(C=100)\n",
                "lr_class_1.fit(X_train, y_train==1)\n",
                "\n",
                "# Plot the binary classifier (class 1 vs. rest)\n",
                "plot_classifier(X_train, y_train==1, lr_class_1)\n"
            ]
        },
        {
            "cell_type": "markdown",
            "metadata": {},
            "source": [
                "### One-vs-rest SVM\n",
                "\n",
                "As motivation for the next and final chapter on support vector machines,\n",
                "we'll repeat the previous exercise with a non-linear SVM. Once again,\n",
                "the data is loaded into `X_train`, `y_train`, `X_test`, and `y_test` .\n",
                "\n",
                "Instead of using `LinearSVC`, we'll now use scikit-learn's `SVC` object,\n",
                "which is a non-linear \"kernel\" SVM (much more on what this means in\n",
                "Chapter 4!). Again, your task is to create a plot of the binary\n",
                "classifier for class 1 vs. rest.\n",
                "\n",
                "**Instructions**\n",
                "\n",
                "- Fit an `SVC` called `svm_class_1` to predict class 1 vs. other\n",
                "  classes.\n",
                "- Plot this classifier.\n",
                "\n",
                "**Answer**\n"
            ]
        },
        {
            "cell_type": "code",
            "execution_count": null,
            "metadata": {},
            "outputs": [],
            "source": [
                "# We'll use SVC instead of LinearSVC from now on\n",
                "from sklearn.svm import SVC\n",
                "\n",
                "# Create/plot the binary classifier (class 1 vs. rest)\n",
                "svm_class_1 = SVC()\n",
                "svm_class_1.fit(X_train, y_train==1)\n",
                "plot_classifier(X_train, y_train==1, svm_class_1)\n"
            ]
        },
        {
            "cell_type": "markdown",
            "metadata": {},
            "source": [
                "## Support Vector Machines\n",
                "\n",
                "### Effect of removing examples\n",
                "\n",
                "Support vectors are defined as training examples that influence the\n",
                "decision boundary. In this exercise, you'll observe this behavior by\n",
                "removing non support vectors from the training set.\n",
                "\n",
                "The wine quality dataset is already loaded into `X` and `y` (first two\n",
                "features only). (Note: we specify `lims` in `plot_classifier()` so that\n",
                "the two plots are forced to use the same axis limits and can be compared\n",
                "directly.)\n",
                "\n",
                "**Instructions**\n",
                "\n",
                "- Train a linear SVM on the whole data set.\n",
                "- Create a new data set containing only the support vectors.\n",
                "- Train a new linear SVM on the smaller data set.\n",
                "\n",
                "**Answer**\n"
            ]
        },
        {
            "cell_type": "code",
            "execution_count": null,
            "metadata": {},
            "outputs": [],
            "source": [
                "# Train a linear SVM\n",
                "svm = SVC(kernel=\"linear\")\n",
                "svm.fit(X,y)\n",
                "plot_classifier(X, y, svm, lims=(11,15,0,6))\n",
                "\n",
                "# Make a new data set keeping only the support vectors\n",
                "print(\"Number of original examples\", len(X))\n",
                "print(\"Number of support vectors\", len(svm.support_))\n",
                "X_small = X[svm.support_]\n",
                "y_small = y[svm.support_]\n",
                "\n",
                "# Train a new SVM using only the support vectors\n",
                "svm_small = SVC(kernel=\"linear\")\n",
                "svm_small.fit(X_small, y_small)\n",
                "plot_classifier(X_small, y_small, svm_small, lims=(11,15,0,6))\n"
            ]
        },
        {
            "cell_type": "markdown",
            "metadata": {},
            "source": [
                "### GridSearchCV warm-up\n",
                "\n",
                "In the video we saw that increasing the RBF kernel hyperparameter\n",
                "`gamma` increases training accuracy. In this exercise we'll search for\n",
                "the `gamma` that maximizes cross-validation accuracy using\n",
                "scikit-learn's `GridSearchCV`. A binary version of the handwritten\n",
                "digits dataset, in which you're just trying to predict whether or not an\n",
                "image is a \"2\", is already loaded into the variables `X` and `y`.\n",
                "\n",
                "**Instructions**\n",
                "\n",
                "- Create a `GridSearchCV` object.\n",
                "- Call the `fit()` method to select the best value of `gamma` based on\n",
                "  cross-validation accuracy.\n",
                "\n",
                "**Answer**\n"
            ]
        },
        {
            "cell_type": "code",
            "execution_count": null,
            "metadata": {},
            "outputs": [],
            "source": [
                "# Instantiate an RBF SVM\n",
                "svm = SVC()\n",
                "\n",
                "# Instantiate the GridSearchCV object and run the search\n",
                "parameters = {'gamma':[0.00001, 0.0001, 0.001, 0.01, 0.1]}\n",
                "searcher = GridSearchCV(svm, parameters)\n",
                "searcher.fit(X, y)\n",
                "\n",
                "# Report the best parameters\n",
                "print(\"Best CV params\", searcher.best_params_)\n"
            ]
        },
        {
            "cell_type": "markdown",
            "metadata": {},
            "source": [
                "### Jointly tuning gamma and C with GridSearchCV\n",
                "\n",
                "In the previous exercise the best value of `gamma` was 0.001 using the\n",
                "default value of `C`, which is 1. In this exercise you'll search for the\n",
                "best combination of `C` and `gamma` using `GridSearchCV`.\n",
                "\n",
                "As in the previous exercise, the 2-vs-not-2 digits dataset is already\n",
                "loaded, but this time it's split into the variables `X_train`,\n",
                "`y_train`, `X_test`, and `y_test`. Even though cross-validation already\n",
                "splits the training set into parts, it's often a good idea to hold out a\n",
                "separate test set to make sure the cross-validation results are\n",
                "sensible.\n",
                "\n",
                "**Instructions**\n",
                "\n",
                "- Run `GridSearchCV` to find the best hyperparameters using the training\n",
                "  set.\n",
                "- Print the best values of the parameters.\n",
                "- Print out the accuracy on the test set, which was not used during the\n",
                "  cross-validation procedure.\n",
                "\n",
                "**Answer**\n"
            ]
        },
        {
            "cell_type": "code",
            "execution_count": null,
            "metadata": {},
            "outputs": [],
            "source": [
                "# Instantiate an RBF SVM\n",
                "svm = SVC()\n",
                "\n",
                "# Instantiate the GridSearchCV object and run the search\n",
                "parameters = {'C':[0.1, 1, 10], 'gamma':[0.00001, 0.0001, 0.001, 0.01, 0.1]}\n",
                "searcher = GridSearchCV(svm, parameters)\n",
                "searcher.fit(X_train, y_train)\n",
                "\n",
                "# Report the best parameters and the corresponding score\n",
                "print(\"Best CV params\", searcher.best_params_)\n",
                "print(\"Best CV accuracy\", searcher.best_score_)\n",
                "\n",
                "# Report the test accuracy using these best parameters\n",
                "print(\"Test accuracy of best grid search hypers:\", searcher.score(X_test, y_test))\n"
            ]
        },
        {
            "cell_type": "markdown",
            "metadata": {},
            "source": [
                "### Using SGDClassifier\n",
                "\n",
                "In this final coding exercise, you'll do a hyperparameter search over\n",
                "the regularization strength and the loss (logistic regression vs. linear\n",
                "SVM) using `SGDClassifier()`.\n",
                "\n",
                "**Instructions**\n",
                "\n",
                "- Instantiate an `SGDClassifier` instance with `random_state=0`.\n",
                "- Search over the regularization strength and the `hinge` vs. `log_loss`\n",
                "  losses.\n",
                "\n",
                "**Answer**\n"
            ]
        },
        {
            "cell_type": "code",
            "execution_count": null,
            "metadata": {},
            "outputs": [],
            "source": [
                "# We set random_state=0 for reproducibility \n",
                "linear_classifier = SGDClassifier(random_state=0)\n",
                "\n",
                "# Instantiate the GridSearchCV object and run the search\n",
                "parameters = {'alpha':[0.00001, 0.0001, 0.001, 0.01, 0.1, 1], \n",
                "             'loss':['hinge', 'log_loss']}\n",
                "searcher = GridSearchCV(linear_classifier, parameters, cv=10)\n",
                "searcher.fit(X_train, y_train)\n",
                "\n",
                "# Report the best parameters and the corresponding score\n",
                "print(\"Best CV params\", searcher.best_params_)\n",
                "print(\"Best CV accuracy\", searcher.best_score_)\n",
                "print(\"Test accuracy of best grid search hypers:\", searcher.score(X_test, y_test))\n"
            ]
        }
    ],
    "metadata": {
        "anaconda-cloud": "",
        "kernelspec": {
            "display_name": "Python 3",
            "language": "python",
            "name": "python3"
        },
        "language_info": {
            "codemirror_mode": {
                "name": "ipython",
                "version": 3
            },
            "file_extension": ".py",
            "mimetype": "text/x-python",
            "name": "python",
            "nbconvert_exporter": "python",
            "pygments_lexer": "ipython3",
            "version": "3.12.3"
        }
    },
    "nbformat": 4,
    "nbformat_minor": 1
}
